{
  "nbformat": 4,
  "nbformat_minor": 0,
  "metadata": {
    "colab": {
      "provenance": []
    },
    "kernelspec": {
      "name": "python3",
      "display_name": "Python 3"
    },
    "language_info": {
      "name": "python"
    }
  },
  "cells": [
    {
      "cell_type": "markdown",
      "source": [
        "# **Data Types and Structures Questions**"
      ],
      "metadata": {
        "id": "UkILnRwE181q"
      }
    },
    {
      "cell_type": "markdown",
      "source": [
        "1. What are data structures, and why are they important?\n",
        ">Data structures are ways to organize and store data efficiently in a computer so that it can be accessed and modified easily. They are important because they help in writing efficient algorithms, optimizing performance, and managing large amounts of data systematically.\n",
        "\n"
      ],
      "metadata": {
        "id": "uqT2d-kPMbjU"
      }
    },
    {
      "cell_type": "markdown",
      "source": [
        "2. Explain the difference between mutable and immutable data types with examples\n",
        "\n",
        "- Mutable: Can be changed after creation.\n",
        "\n",
        ">Example: list, dict, set\n",
        "\n",
        ">my_list = [1, 2, 3]\n",
        "\n",
        ">my_list[0] = 10  \n",
        "\n",
        ">output = [1,2,3,10]\n",
        "\n",
        "- Immutable: Cannot be changed after creation.\n",
        "\n",
        ">Example: int, str, tuple\n",
        "\n",
        ">my_str = \"hello\"\n",
        "\n",
        ">my_str[0] = \"H\"  \n",
        "\n",
        ">output = Error"
      ],
      "metadata": {
        "id": "pX_YwFfCMzHv"
      }
    },
    {
      "cell_type": "markdown",
      "source": [
        "3. What are the main differences between lists and tuples in Python?\n"
      ],
      "metadata": {
        "id": "LnkKx93YOJoV"
      }
    },
    {
      "cell_type": "markdown",
      "source": [
        "- Mutability:\n",
        "\n",
        "> Lists are mutable, meaning their elements can be changed, added, or removed after creation.\n",
        "\n",
        "> Tuples are immutable, meaning once they are created, their contents cannot be modified.\n",
        "\n",
        "- Syntax:\n",
        "\n",
        "> Lists are defined using square brackets [].\n",
        "\n",
        "> Tuples are defined using parentheses ().\n",
        "\n",
        "- Performance:\n",
        "\n",
        "> Tuples are generally faster and more memory-efficient than lists because of their immutability.\n",
        "\n",
        "> Lists require more memory and are slightly slower because they are designed for flexibility.\n",
        "\n",
        "- Use Case:\n",
        "\n",
        "> Lists are used when the data is expected to change (e.g., dynamic data like user input or items in a cart).\n",
        "\n",
        "> Tuples are used when the data is fixed and should not change, such as coordinates, configuration values, or function return values.\n",
        "\n",
        "- Functions and Methods:\n",
        "\n",
        "> Lists have many built-in methods (like .append(), .remove(), etc.) to modify the data.\n",
        "\n",
        "> Tuples have fewer methods because they do not support modification."
      ],
      "metadata": {
        "id": "8xqz9bg2HLZC"
      }
    },
    {
      "cell_type": "markdown",
      "source": [
        "4. Describe how dictionaries store data\n",
        ">Dictionaries store data as key-value pairs using a hash table internally. Each key must be unique and is hashed to quickly access the corresponding value.\n",
        "\n",
        "- example: person = {\"name\": \"Alice\", \"age\": 25}\n"
      ],
      "metadata": {
        "id": "YdXwVgOyLy_Q"
      }
    },
    {
      "cell_type": "markdown",
      "source": [
        "5. Why might you use a set instead of a list in Python?\n",
        "- Use a set when:\n",
        "\n",
        ">You want unique elements (sets automatically remove duplicates).\n",
        "\n",
        ">You want fast membership tests (checking x in set is faster than x in list)."
      ],
      "metadata": {
        "id": "PtfPIq_2kd1G"
      }
    },
    {
      "cell_type": "markdown",
      "source": [
        "6. What is a string in Python, and how is it different from a list?\n",
        "- A string is an immutable sequence of characters, while a list is a mutable sequence of elements.\n",
        "\n",
        ">s = \"hello\"   \n",
        ">l = ['h', 'e', 'l', 'l', 'o']\n"
      ],
      "metadata": {
        "id": "sfvtrG-RoF26"
      }
    },
    {
      "cell_type": "markdown",
      "source": [
        "7. How do tuples ensure data integrity in Python?\n",
        "- Tuples are immutable, meaning once created, their contents cannot be changed. This ensures data remains constant and safe from accidental modification."
      ],
      "metadata": {
        "id": "Sp0ozHVEoaqz"
      }
    },
    {
      "cell_type": "markdown",
      "source": [
        "8. What is a hash table, and how does it relate to dictionaries in Python?\n",
        "- A hash table is a data structure that maps keys to values using a hash function. Python dictionaries use hash tables under the hood to allow fast access to values via keys."
      ],
      "metadata": {
        "id": "9RZEB92sohJv"
      }
    },
    {
      "cell_type": "markdown",
      "source": [
        "9. Can lists contain different data types in Python?\n",
        "- Yes. Python lists can hold mixed data types:\n",
        "\n",
        "- mixed = [1, \"hello\", True, 3.14]"
      ],
      "metadata": {
        "id": "Pr7pkDwrooJQ"
      }
    },
    {
      "cell_type": "markdown",
      "source": [
        "10. Explain why strings are immutable in Python\n",
        "- Strings are immutable to:\n",
        "\n",
        "1.  Improve performance and memory efficiency.\n",
        "\n",
        "2.   Ensure safety when used as keys in dictionaries.\n",
        "\n",
        "3. Allow sharing between parts of the program without unintended side effects.\n"
      ],
      "metadata": {
        "id": "tOXZ3QC-o78O"
      }
    },
    {
      "cell_type": "markdown",
      "source": [
        "11. What advantages do dictionaries offer over lists for certain tasks?\n",
        "\n",
        "* Faster lookups with keys.\n",
        "\n",
        "* More descriptive data via key-value pairs.\n",
        "\n",
        "* Efficient for mapping relationships, like names to phone numbers.\n",
        "\n"
      ],
      "metadata": {
        "id": "dV3dwd0CpQid"
      }
    },
    {
      "cell_type": "markdown",
      "source": [
        "12. Describe a scenario where using a tuple would be preferable over a list\n",
        "* Use a tuple when storing fixed data, like coordinates (x, y), or returning multiple values from a function that shouldn't be changed.\n",
        "\n",
        "> def get_point():             \n",
        "_____return (10, 20)\n"
      ],
      "metadata": {
        "id": "SQq0wI0gp0kP"
      }
    },
    {
      "cell_type": "markdown",
      "source": [
        "13. How do sets handle duplicate values in Python?\n",
        "- Sets automatically remove duplicates. If duplicates are added, only one is kept:\n",
        "\n",
        "> s = {1, 2, 2, 3}                     \n",
        "print(s)  # Output: {1, 2, 3}\n"
      ],
      "metadata": {
        "id": "K41O95k8qMu8"
      }
    },
    {
      "cell_type": "markdown",
      "source": [
        "14. How does the “in” keyword work differently for lists and dictionaries?\n",
        "- List: checks for existence of a value.\n",
        "> 2 in [1, 2, 3]  # True\n",
        "- Dictionary: checks for existence of a key.\n",
        "> 'name' in {'name': 'Bob'}  # True\n"
      ],
      "metadata": {
        "id": "pkSRHzArqZat"
      }
    },
    {
      "cell_type": "markdown",
      "source": [
        "15. Can you modify the elements of a tuple? Explain why or why not\n",
        "- No, because tuples are immutable. Once created, you cannot change, add, or remove items."
      ],
      "metadata": {
        "id": "yx5KVUYnuN0V"
      }
    },
    {
      "cell_type": "markdown",
      "source": [
        "16. What is a nested dictionary, and give an example of its use case\n",
        "- A nested dictionary is a dictionary inside another dictionary. Useful for representing complex data, like JSON.\n",
        "\n",
        ">student = {    \n",
        "    \"name\": \"Alice\",          \n",
        "    \"grades\": {                              \n",
        "        \"math\": 90,                                             \n",
        "        \"science\": 85                                      \n",
        "    }                                                \n",
        "}\n"
      ],
      "metadata": {
        "id": "qp3v4yA0zRNJ"
      }
    },
    {
      "cell_type": "markdown",
      "source": [
        "17. Describe the time complexity of accessing elements in a dictionary\n",
        "- Average-case time complexity for accessing an element by key is O(1) (constant time), due to the underlying hash table."
      ],
      "metadata": {
        "id": "4dWWVWXGz1q6"
      }
    },
    {
      "cell_type": "markdown",
      "source": [
        "18. In what situations are lists preferred over dictionaries?\n",
        "- Use lists when:\n",
        "\n",
        ">Order matters.                                   \n",
        "You’re dealing with simple collections of values.                               \n",
        "You don’t need to label data with keys."
      ],
      "metadata": {
        "id": "nmZ2nCW3z-cA"
      }
    },
    {
      "cell_type": "markdown",
      "source": [
        "19. Why are dictionaries considered unordered, and how does that affect data retrieval?\n",
        ">In older Python versions (<3.7), dictionaries didn’t maintain insertion order. Since 3.7, order is preserved, but conceptually, dictionaries prioritize key-based access, not order. Retrieval by index isn’t allowed."
      ],
      "metadata": {
        "id": "SU34mi4o0Nsn"
      }
    },
    {
      "cell_type": "markdown",
      "source": [
        "20. Explain the difference between a list and a dictionary in terms of data retrieval\n",
        "- List: Retrieve by index (position).\n",
        "> lst[0]\n",
        "- Dictionary: Retrieve by key (label).\n",
        "> dict['name']\n"
      ],
      "metadata": {
        "id": "cj5EDnKF0VMM"
      }
    },
    {
      "cell_type": "markdown",
      "source": [
        "# **Practical Questions**"
      ],
      "metadata": {
        "id": "Mh9HukpA0kAb"
      }
    },
    {
      "cell_type": "markdown",
      "source": [
        "1. Write a code to create a string with your name and print it.\n"
      ],
      "metadata": {
        "id": "O9I7yxBI2Xhg"
      }
    },
    {
      "cell_type": "code",
      "source": [
        "my_name = \"Prathmesh Solanki\"\n",
        "print(my_name)"
      ],
      "metadata": {
        "id": "C7Vmh8uDNC0E",
        "colab": {
          "base_uri": "https://localhost:8080/"
        },
        "outputId": "0c94246c-8a3b-449c-a822-726786c32647"
      },
      "execution_count": null,
      "outputs": [
        {
          "output_type": "stream",
          "name": "stdout",
          "text": [
            "Prathmesh Solanki\n"
          ]
        }
      ]
    },
    {
      "cell_type": "markdown",
      "source": [
        " 2. Write a code to find the length of the string \"Hello World\"."
      ],
      "metadata": {
        "id": "2gT3uADL2rkm"
      }
    },
    {
      "cell_type": "code",
      "source": [
        "char = \"Hello World\"\n",
        "length = len(char)\n",
        "print(length)"
      ],
      "metadata": {
        "colab": {
          "base_uri": "https://localhost:8080/"
        },
        "id": "hWcYzZHY2oxS",
        "outputId": "0c951a4d-c246-4a94-dc7d-06f5c53cee17"
      },
      "execution_count": null,
      "outputs": [
        {
          "output_type": "stream",
          "name": "stdout",
          "text": [
            "11\n"
          ]
        }
      ]
    },
    {
      "cell_type": "markdown",
      "source": [
        "3. Write a code to slice the first 3 characters from the string \"Python Programming\"."
      ],
      "metadata": {
        "id": "L3q8ap0c3YM9"
      }
    },
    {
      "cell_type": "code",
      "source": [
        "char = \"Python Programming\"\n",
        "char[0:3]"
      ],
      "metadata": {
        "colab": {
          "base_uri": "https://localhost:8080/",
          "height": 35
        },
        "id": "gt-u-u683JpK",
        "outputId": "371d97d0-c075-4ed7-92ca-dd413ba49bf7"
      },
      "execution_count": null,
      "outputs": [
        {
          "output_type": "execute_result",
          "data": {
            "text/plain": [
              "'Pyt'"
            ],
            "application/vnd.google.colaboratory.intrinsic+json": {
              "type": "string"
            }
          },
          "metadata": {},
          "execution_count": 6
        }
      ]
    },
    {
      "cell_type": "markdown",
      "source": [
        "4. Write a code to convert the string \"hello\" to uppercase"
      ],
      "metadata": {
        "id": "ioRQ14rq4JM4"
      }
    },
    {
      "cell_type": "code",
      "source": [
        "char = \"hello world\"\n",
        "print(char.upper())"
      ],
      "metadata": {
        "colab": {
          "base_uri": "https://localhost:8080/"
        },
        "id": "sDaGHChZ37KJ",
        "outputId": "63aa2b3f-3b79-4703-d9e9-504c912bed92"
      },
      "execution_count": null,
      "outputs": [
        {
          "output_type": "stream",
          "name": "stdout",
          "text": [
            "HELLO WORLD\n"
          ]
        }
      ]
    },
    {
      "cell_type": "markdown",
      "source": [
        "5. Write a code to replace the word \"apple\" with \"orange\" in the string \"I like apple\"."
      ],
      "metadata": {
        "id": "mnpTAsYx4kjx"
      }
    },
    {
      "cell_type": "code",
      "source": [
        "string = \"I like apple\"\n",
        "replace_char = string.replace(\"apple\", \"orange\")\n",
        "print(replace_char)"
      ],
      "metadata": {
        "colab": {
          "base_uri": "https://localhost:8080/"
        },
        "id": "HobgoCIQ4fj_",
        "outputId": "9d15c676-43c9-4950-ba06-596a506dae2b"
      },
      "execution_count": null,
      "outputs": [
        {
          "output_type": "stream",
          "name": "stdout",
          "text": [
            "I like orange\n"
          ]
        }
      ]
    },
    {
      "cell_type": "markdown",
      "source": [
        "6. Write a code to create a list with numbers 1 to 5 and print it."
      ],
      "metadata": {
        "id": "JZH-YUtJ5RDB"
      }
    },
    {
      "cell_type": "code",
      "source": [
        "lst = list(range(1,6))\n",
        "print(lst)"
      ],
      "metadata": {
        "colab": {
          "base_uri": "https://localhost:8080/"
        },
        "id": "dj2fiODo47XE",
        "outputId": "5a317b20-002d-443b-c12f-2db796311b84"
      },
      "execution_count": null,
      "outputs": [
        {
          "output_type": "stream",
          "name": "stdout",
          "text": [
            "[1, 2, 3, 4, 5]\n"
          ]
        }
      ]
    },
    {
      "cell_type": "markdown",
      "source": [
        "7. Write a code to append the number 10 to the list [1, 2, 3, 4]."
      ],
      "metadata": {
        "id": "_LagCA2D52mv"
      }
    },
    {
      "cell_type": "code",
      "source": [
        "lst = [1,2,3,4]\n",
        "add_no = lst.append(10)\n",
        "print(lst)"
      ],
      "metadata": {
        "colab": {
          "base_uri": "https://localhost:8080/"
        },
        "id": "PKqUJ6_N5z35",
        "outputId": "c437a21d-96ff-44e8-9f46-afcbbfc598b9"
      },
      "execution_count": null,
      "outputs": [
        {
          "output_type": "stream",
          "name": "stdout",
          "text": [
            "[1, 2, 3, 4, 10]\n"
          ]
        }
      ]
    },
    {
      "cell_type": "markdown",
      "source": [
        "8. Write a code to remove the number 3 from the list [1, 2, 3, 4, 5]."
      ],
      "metadata": {
        "id": "0ObJGHyt6FB7"
      }
    },
    {
      "cell_type": "code",
      "source": [
        "lst = [1,2,3,4,5]\n",
        "remove_no = lst.remove(3)\n",
        "print(lst)"
      ],
      "metadata": {
        "colab": {
          "base_uri": "https://localhost:8080/"
        },
        "id": "HAXQZuO_6COb",
        "outputId": "2b521040-6f22-4e12-dac2-86c5ba0b2ecd"
      },
      "execution_count": null,
      "outputs": [
        {
          "output_type": "stream",
          "name": "stdout",
          "text": [
            "[1, 2, 4, 5]\n"
          ]
        }
      ]
    },
    {
      "cell_type": "markdown",
      "source": [
        "9. Write a code to access the second element in the list ['a', 'b', 'c', 'd']."
      ],
      "metadata": {
        "id": "84yAQFxJ6WEa"
      }
    },
    {
      "cell_type": "code",
      "source": [
        "lst = ['a', 'b', 'c', 'd']\n",
        "char = (lst[1])\n",
        "print(char)"
      ],
      "metadata": {
        "colab": {
          "base_uri": "https://localhost:8080/"
        },
        "id": "76pR4HnA6TI5",
        "outputId": "567eb6ed-dace-4d70-8329-b01ffbc9ce0d"
      },
      "execution_count": null,
      "outputs": [
        {
          "output_type": "stream",
          "name": "stdout",
          "text": [
            "b\n"
          ]
        }
      ]
    },
    {
      "cell_type": "markdown",
      "source": [
        "10. Write a code to reverse the list [10, 20, 30, 40, 50]."
      ],
      "metadata": {
        "id": "cAjcH0iB63Ho"
      }
    },
    {
      "cell_type": "code",
      "source": [
        "lst = [10, 20, 30, 40, 50]\n",
        "lst.reverse()\n",
        "print(lst)"
      ],
      "metadata": {
        "colab": {
          "base_uri": "https://localhost:8080/"
        },
        "id": "r_qeLcuf62Bh",
        "outputId": "3d5f935c-7a7b-4d3c-e159-fb05e4fc12d9"
      },
      "execution_count": null,
      "outputs": [
        {
          "output_type": "stream",
          "name": "stdout",
          "text": [
            "[50, 40, 30, 20, 10]\n"
          ]
        }
      ]
    },
    {
      "cell_type": "markdown",
      "source": [
        "11. Write a code to create a tuple with the elements 100, 200, 300 and print it."
      ],
      "metadata": {
        "id": "ERh7j9De7cA3"
      }
    },
    {
      "cell_type": "code",
      "source": [
        "tup = (100,200,300)\n",
        "print(tup)"
      ],
      "metadata": {
        "colab": {
          "base_uri": "https://localhost:8080/"
        },
        "id": "L73iA8_I7YQv",
        "outputId": "0dc066a4-6613-4e4d-8d27-7f3a2244b983"
      },
      "execution_count": null,
      "outputs": [
        {
          "output_type": "stream",
          "name": "stdout",
          "text": [
            "(100, 200, 300)\n"
          ]
        }
      ]
    },
    {
      "cell_type": "markdown",
      "source": [
        "12. Write a code to access the second-to-last element of the tuple ('red', 'green', 'blue', 'yellow')."
      ],
      "metadata": {
        "id": "3U92OrPn741M"
      }
    },
    {
      "cell_type": "code",
      "source": [
        "color = ('red', 'green', 'blue', 'yellow')\n",
        "last_chars = color[-2]\n",
        "print(last_chars)"
      ],
      "metadata": {
        "colab": {
          "base_uri": "https://localhost:8080/"
        },
        "id": "Sk2AjMWG71iB",
        "outputId": "d9f6cf6c-0385-4f96-af21-6b1d495b9474"
      },
      "execution_count": null,
      "outputs": [
        {
          "output_type": "stream",
          "name": "stdout",
          "text": [
            "blue\n"
          ]
        }
      ]
    },
    {
      "cell_type": "markdown",
      "source": [
        "13. Write a code to find the minimum number in the tuple (10, 20, 5, 15)."
      ],
      "metadata": {
        "id": "qgsQ0nKv8ZZf"
      }
    },
    {
      "cell_type": "code",
      "source": [
        "mini = min((10, 20, 5, 15))\n",
        "print(mini)"
      ],
      "metadata": {
        "colab": {
          "base_uri": "https://localhost:8080/"
        },
        "id": "_2v288nG8SRS",
        "outputId": "e8aa6e38-a9c0-44ed-af66-db3a637b7660"
      },
      "execution_count": null,
      "outputs": [
        {
          "output_type": "stream",
          "name": "stdout",
          "text": [
            "5\n"
          ]
        }
      ]
    },
    {
      "cell_type": "markdown",
      "source": [
        "14. Write a code to find the index of the element \"cat\" in the tuple ('dog', 'cat', 'rabbit')."
      ],
      "metadata": {
        "id": "riwEX6Hr8jbk"
      }
    },
    {
      "cell_type": "code",
      "source": [
        "animal = (\"dog\",\"cat\",\"rabbit\")\n",
        "animal.index(\"cat\")"
      ],
      "metadata": {
        "colab": {
          "base_uri": "https://localhost:8080/"
        },
        "id": "T9PLKdbH8fzO",
        "outputId": "29f8b56b-6b75-467a-fede-8777f8a2462a"
      },
      "execution_count": null,
      "outputs": [
        {
          "output_type": "execute_result",
          "data": {
            "text/plain": [
              "1"
            ]
          },
          "metadata": {},
          "execution_count": 20
        }
      ]
    },
    {
      "cell_type": "markdown",
      "source": [
        "15. Write a code to create a tuple containing three different fruits and check if \"kiwi\" is in it."
      ],
      "metadata": {
        "id": "lApeB_Jc9pZZ"
      }
    },
    {
      "cell_type": "code",
      "source": [
        "fruits = (\"apple\", \"banana\", \"orange\")\n",
        "\"kiwi\" in fruits"
      ],
      "metadata": {
        "colab": {
          "base_uri": "https://localhost:8080/"
        },
        "id": "clSwuqUN9g3U",
        "outputId": "2b4433c7-c4ec-49b9-bf35-40235dd1733a"
      },
      "execution_count": null,
      "outputs": [
        {
          "output_type": "execute_result",
          "data": {
            "text/plain": [
              "False"
            ]
          },
          "metadata": {},
          "execution_count": 22
        }
      ]
    },
    {
      "cell_type": "markdown",
      "source": [
        "16. Write a code to create a set with the elements 'a', 'b', 'c' and print it."
      ],
      "metadata": {
        "id": "fvn5Xian97Ok"
      }
    },
    {
      "cell_type": "code",
      "source": [
        "s = {\"a\",\"b\",\"c\"}\n",
        "print(s)"
      ],
      "metadata": {
        "colab": {
          "base_uri": "https://localhost:8080/"
        },
        "id": "cDmaNCi991_P",
        "outputId": "796c620d-3d99-47c5-b61d-3830affe21ff"
      },
      "execution_count": null,
      "outputs": [
        {
          "output_type": "stream",
          "name": "stdout",
          "text": [
            "{'c', 'b', 'a'}\n"
          ]
        }
      ]
    },
    {
      "cell_type": "markdown",
      "source": [
        "17. Write a code to clear all elements from the set {1, 2, 3, 4, 5}."
      ],
      "metadata": {
        "id": "DqU2-1tw-Kh0"
      }
    },
    {
      "cell_type": "code",
      "source": [
        "s = {1, 2, 3, 4, 5}\n",
        "s.clear()\n",
        "print(s)"
      ],
      "metadata": {
        "colab": {
          "base_uri": "https://localhost:8080/"
        },
        "id": "5cVo937M-Fce",
        "outputId": "5b9c12db-6ccc-4024-dbc7-4ab6aaf72029"
      },
      "execution_count": null,
      "outputs": [
        {
          "output_type": "stream",
          "name": "stdout",
          "text": [
            "set()\n"
          ]
        }
      ]
    },
    {
      "cell_type": "markdown",
      "source": [
        "18. Write a code to remove the element 4 from the set {1, 2, 3, 4}."
      ],
      "metadata": {
        "id": "qBUesv6c-eHh"
      }
    },
    {
      "cell_type": "code",
      "source": [
        "s = {1, 2, 3, 4}\n",
        "s.remove(4)\n",
        "print(s)"
      ],
      "metadata": {
        "colab": {
          "base_uri": "https://localhost:8080/"
        },
        "id": "3qM0cVFb-bcx",
        "outputId": "4fc59f92-91ff-452a-a727-534f468aed4b"
      },
      "execution_count": null,
      "outputs": [
        {
          "output_type": "stream",
          "name": "stdout",
          "text": [
            "{1, 2, 3}\n"
          ]
        }
      ]
    },
    {
      "cell_type": "markdown",
      "source": [
        "19. Write a code to find the union of two sets {1, 2, 3} and {3, 4, 5}."
      ],
      "metadata": {
        "id": "XcfQ67NR-mWe"
      }
    },
    {
      "cell_type": "code",
      "source": [
        "s1 = {1, 2, 3}\n",
        "s2 = {3, 4, 5}\n",
        "s1.union(s2)"
      ],
      "metadata": {
        "colab": {
          "base_uri": "https://localhost:8080/"
        },
        "id": "HCy1lnjR-jyr",
        "outputId": "ef423c50-906e-4319-f152-d3cf9e460e7f"
      },
      "execution_count": null,
      "outputs": [
        {
          "output_type": "execute_result",
          "data": {
            "text/plain": [
              "{1, 2, 3, 4, 5}"
            ]
          },
          "metadata": {},
          "execution_count": 28
        }
      ]
    },
    {
      "cell_type": "markdown",
      "source": [
        "20. Write a code to find the intersection of two sets {1, 2, 3} and {2, 3, 4}."
      ],
      "metadata": {
        "id": "-ZqeiV_B-11t"
      }
    },
    {
      "cell_type": "code",
      "source": [
        "s1 = {1, 2, 3}\n",
        "s2 = {2, 3, 4}\n",
        "s1.intersection(s2)"
      ],
      "metadata": {
        "colab": {
          "base_uri": "https://localhost:8080/"
        },
        "id": "wDv83h4z-s4p",
        "outputId": "d02f92a9-a088-4e68-b5bf-77e624f69b51"
      },
      "execution_count": null,
      "outputs": [
        {
          "output_type": "execute_result",
          "data": {
            "text/plain": [
              "{2, 3}"
            ]
          },
          "metadata": {},
          "execution_count": 29
        }
      ]
    },
    {
      "cell_type": "markdown",
      "source": [
        "21. Write a code to create a dictionary with the keys \"name\", \"age\", and \"city\", and print it."
      ],
      "metadata": {
        "id": "MuxcNp8P_Q93"
      }
    },
    {
      "cell_type": "code",
      "source": [
        "info = {\"name\" : \"Prathmesh\", \"age\" : 20, \"city\" : \"Mumbai\"}\n",
        "print(info)"
      ],
      "metadata": {
        "colab": {
          "base_uri": "https://localhost:8080/"
        },
        "id": "gVIgCKWj_LbU",
        "outputId": "f9ca59cd-ea2f-4e97-d2d2-d92c1c7e7868"
      },
      "execution_count": null,
      "outputs": [
        {
          "output_type": "stream",
          "name": "stdout",
          "text": [
            "{'name': 'Prathmesh', 'age': 20, 'city': 'Mumbai'}\n"
          ]
        }
      ]
    },
    {
      "cell_type": "markdown",
      "source": [
        "22. Write a code to add a new key-value pair \"country\": \"USA\" to the dictionary {'name': 'John', 'age': 25}"
      ],
      "metadata": {
        "id": "ZIuvY9tS_u-4"
      }
    },
    {
      "cell_type": "code",
      "source": [
        "info =  {'name': 'John', 'age': 25}\n",
        "info[\"country\"] = \"USA\"\n",
        "print(info)"
      ],
      "metadata": {
        "colab": {
          "base_uri": "https://localhost:8080/"
        },
        "id": "rNTLR6PV_j5F",
        "outputId": "2cdc7b97-c815-41d2-a4a8-1a3e0aa71afd"
      },
      "execution_count": null,
      "outputs": [
        {
          "output_type": "stream",
          "name": "stdout",
          "text": [
            "{'name': 'John', 'age': 25, 'country': 'USA'}\n"
          ]
        }
      ]
    },
    {
      "cell_type": "markdown",
      "source": [
        "23. Write a code to access the value associated with the key \"name\" in the dictionary {'name': 'Alice', 'age': 30}"
      ],
      "metadata": {
        "id": "SmdXAQo2AFbH"
      }
    },
    {
      "cell_type": "code",
      "source": [
        "info =  {'name': 'Alice', 'age': 30}\n",
        "print(info['name'])"
      ],
      "metadata": {
        "colab": {
          "base_uri": "https://localhost:8080/"
        },
        "id": "RYPDtEZn_9un",
        "outputId": "4d46c5e7-7ddb-4b3c-bd6f-72607400d6d5"
      },
      "execution_count": null,
      "outputs": [
        {
          "output_type": "stream",
          "name": "stdout",
          "text": [
            "Alice\n"
          ]
        }
      ]
    },
    {
      "cell_type": "markdown",
      "source": [
        "24. Write a code to remove the key \"age\" from the dictionary {'name': 'Bob', 'age': 22, 'city': 'New York'}."
      ],
      "metadata": {
        "id": "Y0B1twjXEbMJ"
      }
    },
    {
      "cell_type": "code",
      "source": [
        "info = {'name': 'Bob', 'age': 22, 'city': 'New York'}\n",
        "info.pop(\"age\")\n",
        "print(info)"
      ],
      "metadata": {
        "colab": {
          "base_uri": "https://localhost:8080/"
        },
        "id": "5ygE-5LFAels",
        "outputId": "1561ebfb-ad19-4070-e9a5-f75543b2c609"
      },
      "execution_count": null,
      "outputs": [
        {
          "output_type": "stream",
          "name": "stdout",
          "text": [
            "{'name': 'Bob', 'city': 'New York'}\n"
          ]
        }
      ]
    },
    {
      "cell_type": "markdown",
      "source": [
        "25. Write a code to check if the key \"city\" exists in the dictionary {'name': 'Alice', 'city': 'Paris'}."
      ],
      "metadata": {
        "id": "befcykVGEoy2"
      }
    },
    {
      "cell_type": "code",
      "source": [
        "info = {'name': 'Alice', 'city': 'Paris'}\n",
        "print(\"city\" in info)"
      ],
      "metadata": {
        "id": "JWZW-RJlE-nd",
        "colab": {
          "base_uri": "https://localhost:8080/"
        },
        "outputId": "bd2e5592-e440-4b66-8271-d8eb31f2bbb4"
      },
      "execution_count": null,
      "outputs": [
        {
          "output_type": "stream",
          "name": "stdout",
          "text": [
            "True\n"
          ]
        }
      ]
    },
    {
      "cell_type": "markdown",
      "source": [
        "26. Write a code to create a list, a tuple, and a dictionary, and print them all."
      ],
      "metadata": {
        "id": "q7LrX1cfFS14"
      }
    },
    {
      "cell_type": "code",
      "source": [
        "lst = [1,2,3,4,5]\n",
        "tup = (\"apple\",\"mango\",\"banana\")\n",
        "dic = {\"name\" : \"prathmesh\", \"age\" : 22, \"course\" : \"ds\"}\n",
        "print(lst)\n",
        "print(tup)\n",
        "print(dic)"
      ],
      "metadata": {
        "id": "Xb_ZQiW0FQHg",
        "colab": {
          "base_uri": "https://localhost:8080/"
        },
        "outputId": "c1e095e6-bc2b-4d23-f551-26732542d9c6"
      },
      "execution_count": null,
      "outputs": [
        {
          "output_type": "stream",
          "name": "stdout",
          "text": [
            "[1, 2, 3, 4, 5]\n",
            "('apple', 'mango', 'banana')\n",
            "{'name': 'prathmesh', 'age': 22, 'course': 'ds'}\n"
          ]
        }
      ]
    },
    {
      "cell_type": "markdown",
      "source": [
        "27. Write a code to create a list of 5 random numbers between 1 and 100, sort it in ascending order, and print the\n",
        "result.(replaced)"
      ],
      "metadata": {
        "id": "vnveWqCtHNHf"
      }
    },
    {
      "cell_type": "code",
      "source": [
        "import random\n",
        "rand_nums = random.sample(range(1, 101), 5)\n",
        "rand_nums.sort()\n",
        "print(rand_nums)"
      ],
      "metadata": {
        "id": "X8unzIIKGmKm",
        "colab": {
          "base_uri": "https://localhost:8080/"
        },
        "outputId": "0e9ee263-6e0e-4da9-aac3-e797aeadc3ff"
      },
      "execution_count": null,
      "outputs": [
        {
          "output_type": "stream",
          "name": "stdout",
          "text": [
            "[13, 32, 42, 70, 80]\n"
          ]
        }
      ]
    },
    {
      "cell_type": "markdown",
      "source": [
        "28. Write a code to create a list with strings and print the element at the third index."
      ],
      "metadata": {
        "id": "EPpXXVnmJCM8"
      }
    },
    {
      "cell_type": "code",
      "source": [
        "fruits = [\"apple\", \"banana\", \"mango\", \"papaya\", \"pineapple\"]\n",
        "print(fruits[2])"
      ],
      "metadata": {
        "colab": {
          "base_uri": "https://localhost:8080/"
        },
        "id": "QNEsJsJ1H7Ck",
        "outputId": "e73a268b-208d-450a-9b69-3aae7d8201f1"
      },
      "execution_count": null,
      "outputs": [
        {
          "output_type": "stream",
          "name": "stdout",
          "text": [
            "mango\n"
          ]
        }
      ]
    },
    {
      "cell_type": "markdown",
      "source": [
        "29. Write a code to combine two dictionaries into one and print the result."
      ],
      "metadata": {
        "id": "DBPyxKYxJoCC"
      }
    },
    {
      "cell_type": "code",
      "source": [
        "dict1 = {'a': 1, 'b': 2}\n",
        "dict2 = {'c': 3, 'd': 4}\n",
        "combined = dict1.copy()\n",
        "combined.update(dict2)\n",
        "print(combined)"
      ],
      "metadata": {
        "colab": {
          "base_uri": "https://localhost:8080/"
        },
        "id": "RfJI6K-FJh9I",
        "outputId": "764c182a-4d76-4460-8894-80384f912209"
      },
      "execution_count": null,
      "outputs": [
        {
          "output_type": "stream",
          "name": "stdout",
          "text": [
            "{'a': 1, 'b': 2, 'c': 3, 'd': 4}\n"
          ]
        }
      ]
    },
    {
      "cell_type": "markdown",
      "source": [
        "30. Write a code to convert a list of strings into a set."
      ],
      "metadata": {
        "id": "B_vgAp2dKZJE"
      }
    },
    {
      "cell_type": "code",
      "source": [
        "mobile = [\"mi\",\"apple\",\"samsung\",\"oppo\",\"nothing\"]\n",
        "converting = set(mobile)\n",
        "print(converting)"
      ],
      "metadata": {
        "colab": {
          "base_uri": "https://localhost:8080/"
        },
        "id": "syovS2_tJ1Xg",
        "outputId": "9848819d-4e5d-4037-e01e-093672d8a1db"
      },
      "execution_count": null,
      "outputs": [
        {
          "output_type": "stream",
          "name": "stdout",
          "text": [
            "{'mi', 'apple', 'nothing', 'oppo', 'samsung'}\n"
          ]
        }
      ]
    },
    {
      "cell_type": "code",
      "source": [],
      "metadata": {
        "id": "QJNc8uOFLKBD"
      },
      "execution_count": null,
      "outputs": []
    }
  ]
}