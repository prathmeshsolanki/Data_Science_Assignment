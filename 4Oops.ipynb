{
  "nbformat": 4,
  "nbformat_minor": 0,
  "metadata": {
    "colab": {
      "provenance": []
    },
    "kernelspec": {
      "name": "python3",
      "display_name": "Python 3"
    },
    "language_info": {
      "name": "python"
    }
  },
  "cells": [
    {
      "cell_type": "markdown",
      "source": [
        "# **Python OOPs Questions**"
      ],
      "metadata": {
        "id": "qzEXcZ6zVWMw"
      }
    },
    {
      "cell_type": "markdown",
      "source": [
        "1. What is Object-Oriented Programming (OOP)?\n",
        "> OOP is a programming paradigm based on the concept of “objects” that contain data (attributes) and functions (methods). It helps to structure code for reusability, scalability, and clarity."
      ],
      "metadata": {
        "id": "KlKJRYOxL-xi"
      }
    },
    {
      "cell_type": "markdown",
      "source": [
        "2. What is a class in OOP?\n",
        "> A class is a blueprint for creating objects. It defines attributes and behaviors.\n"
      ],
      "metadata": {
        "id": "EnnLQceaMJ9R"
      }
    },
    {
      "cell_type": "markdown",
      "source": [
        "3. What is an object in OOP?\n",
        "> An object is an instance of a class.\n",
        "\n",
        "> car1 = Car(\"Toyota\")  # car1 is an object of class Car                          \n",
        "> car1.drive()"
      ],
      "metadata": {
        "id": "veiH4l5tMWlt"
      }
    },
    {
      "cell_type": "markdown",
      "source": [
        "4. Difference between abstraction and encapsulation:\n",
        "\n",
        "\t>Abstraction\t:Hiding implementation details, Only shows essential features,Abstract classes, interfaces\n",
        "\n",
        "  > Encapsulation :Hiding data from outside interference, Restricts direct access to data, Private variables and methods"
      ],
      "metadata": {
        "id": "3HhtD3xwMsaU"
      }
    },
    {
      "cell_type": "markdown",
      "source": [
        "5. What are dunder methods in Python?\n",
        "> “Dunder” = Double Underscore. These are special methods with names like __ init __ , __ str __ , __ call __."
      ],
      "metadata": {
        "id": "-f06fDkyNhhm"
      }
    },
    {
      "cell_type": "markdown",
      "source": [
        "6. Explain the concept of inheritance in OOP.\n",
        "> Inheritance allows one class to use properties and methods of another class."
      ],
      "metadata": {
        "id": "_5qxxX5uN6jM"
      }
    },
    {
      "cell_type": "markdown",
      "source": [
        "7. What is polymorphism in OOP?\n",
        "> Polymorphism allows the same method to behave differently depending on the object."
      ],
      "metadata": {
        "id": "_DhMk6x1OKlu"
      }
    },
    {
      "cell_type": "markdown",
      "source": [
        "8. How is encapsulation achieved in Python?\n",
        "> Using private (__var) and protected (_var) variables."
      ],
      "metadata": {
        "id": "sLwSoflkOPK8"
      }
    },
    {
      "cell_type": "markdown",
      "source": [
        "9. What is a constructor in Python?\n",
        "> __ init __() is the constructor method that initializes an object’s attributes."
      ],
      "metadata": {
        "id": "QpCjxxEYOXCT"
      }
    },
    {
      "cell_type": "markdown",
      "source": [
        "10. What are class and static methods in Python?\n",
        "> Class method has access to the class (cls)\n",
        "\n",
        " > Static method does not access class or instance"
      ],
      "metadata": {
        "id": "kHOqTmBzOg0t"
      }
    },
    {
      "cell_type": "markdown",
      "source": [
        "11. What is method overloading in Python?\n",
        "> Python does not support traditional method overloading. You simulate it using default values or *args."
      ],
      "metadata": {
        "id": "a99PfhMNOrDO"
      }
    },
    {
      "cell_type": "markdown",
      "source": [
        "12. What is method overriding in OOP?\n",
        "> Redefining a method from the parent class in the child class."
      ],
      "metadata": {
        "id": "fA_tdFkoO7yE"
      }
    },
    {
      "cell_type": "markdown",
      "source": [
        "13. What is a property decorator in Python?\n",
        "> It allows you to turn a method into a property."
      ],
      "metadata": {
        "id": "oQ56-3G4PFly"
      }
    },
    {
      "cell_type": "markdown",
      "source": [
        "14. Why is polymorphism important in OOP?\n",
        "> It enables flexibility and scalability by allowing functions to work on objects of different classes seamlessly."
      ],
      "metadata": {
        "id": "FoMfAxQEPla6"
      }
    },
    {
      "cell_type": "markdown",
      "source": [
        "15. What is an abstract class in Python?\n",
        "> An abstract class contains one or more abstract methods that must be implemented by child classes."
      ],
      "metadata": {
        "id": "6S3r0or-PpdV"
      }
    },
    {
      "cell_type": "markdown",
      "source": [
        "16. What are the advantages of OOP?\n",
        "- Code reusability\n",
        "\n",
        "- Modularity\n",
        "\n",
        "- Scalability\n",
        "\n",
        "- Real-world modeling\n",
        "\n",
        "- Easy maintenance"
      ],
      "metadata": {
        "id": "gVTVX8feQALs"
      }
    },
    {
      "cell_type": "markdown",
      "source": [
        "17.What is the difference between a class variable and an instance variable?\n",
        "> Class Variable:\n",
        "A class variable is a variable that is shared across all instances of a class.\n",
        "- Defined inside the class, but outside any method.\n",
        "- Changes made to it affect all instances.\n",
        "\n",
        "> Instance Variable:\n",
        "An instance variable is a variable that is unique to each object (instance).\n",
        "- Defined inside the __init__() method using self.\n",
        "- Each object can have different values for instance variables."
      ],
      "metadata": {
        "id": "LASggJn6QNUW"
      }
    },
    {
      "cell_type": "markdown",
      "source": [
        "18. What is multiple inheritance in Python?\n",
        "> A class inheriting from more than one parent class.\n",
        ">> class A:                                                                 \n",
        "    pass                                                           \n",
        "class B:                                                               \n",
        "    pass                                                                        \n",
        "class C(A, B):                                                           \n",
        "    pass\n"
      ],
      "metadata": {
        "id": "ujC2rg96RBoq"
      }
    },
    {
      "cell_type": "markdown",
      "source": [
        "19. Explain the purpose of ‘’__str__’ and ‘__repr__’ ‘ methods in Python?\n",
        "> __ str __: Human readable output\n",
        "\n",
        " > __ repr __: Developer/debugging representation"
      ],
      "metadata": {
        "id": "oNuaBwklRd2k"
      }
    },
    {
      "cell_type": "markdown",
      "source": [
        "20.What is the significance of the ‘super()’ function in Python.\n",
        "> super() lets you call a method from the parent class."
      ],
      "metadata": {
        "id": "7Twx2DQCSR9M"
      }
    },
    {
      "cell_type": "markdown",
      "source": [
        "21. What is the significance of the __del__ method in Python.\n",
        "> Destructor method, called when the object is deleted or goes out of scope."
      ],
      "metadata": {
        "id": "dmvB16k-SYRN"
      }
    },
    {
      "cell_type": "markdown",
      "source": [
        "22.What is the difference between @staticmethod and @classmethod in Python?\n",
        "\n",
        ">A @staticmethod is a method that does not take self or cls as the first argument.\n",
        "It behaves like a regular function, but it lives inside a class.\n",
        "\n",
        "- It cannot access or modify class or instance variables.\n",
        "\n",
        "- Used for utility/helper functions related to the class.\n",
        "\n",
        ">A @classmethod is a method that takes cls (not self) as the first parameter.\n",
        "It can access and modify class-level variables.\n",
        "\n",
        "- Used when you need to work with the class itself, not instances.\n",
        "\n",
        "- Commonly used to create alternative constructors.\n",
        "\n"
      ],
      "metadata": {
        "id": "Da6gFqXoSckU"
      }
    },
    {
      "cell_type": "markdown",
      "source": [
        "23. How does polymorphism work in Python with inheritance?\n",
        "        class Animal:\n",
        "            def speak(self):\n",
        "              print(\"Animal speaks\")\n",
        "        class Cat(Animal):\n",
        "            def speak(self):\n",
        "              print(\"Meow\")\n",
        "        def call_speak(animal):\n",
        "            animal.speak()\n",
        "        call_speak(Cat())  # Meow\n"
      ],
      "metadata": {
        "id": "SQCJqQqqUEF7"
      }
    },
    {
      "cell_type": "markdown",
      "source": [
        "24. What is method chaining in Python OOP?\n",
        "> Calling multiple methods in a single line by returning self.\n",
        "\n",
        "          class Builder:\n",
        "              def step1(self):\n",
        "                  print(\"Step 1\")\n",
        "                  return self\n",
        "\n",
        "              def step2(self):\n",
        "                  print(\"Step 2\")\n",
        "                  return self\n",
        "\n",
        "          b = Builder().step1().step2()\n"
      ],
      "metadata": {
        "id": "YUbATjazUiX1"
      }
    },
    {
      "cell_type": "markdown",
      "source": [
        "25. Purpose of __call__ method in Python\n",
        "> Allows an object to be called like a function."
      ],
      "metadata": {
        "id": "RkY8Zdl4VDii"
      }
    },
    {
      "cell_type": "code",
      "source": [],
      "metadata": {
        "id": "qT16t7sYSCSJ"
      },
      "execution_count": null,
      "outputs": []
    },
    {
      "cell_type": "markdown",
      "source": [
        "# **Practical Questions**"
      ],
      "metadata": {
        "id": "OFOY4QRgVaFt"
      }
    },
    {
      "cell_type": "markdown",
      "source": [
        "1. Create a parent class Animal with a method speak() that prints a generic message. Create a child class Dog\n",
        "that overrides the speak() method to print \"Bark!\"."
      ],
      "metadata": {
        "id": "HcZSjGlSVzz5"
      }
    },
    {
      "cell_type": "code",
      "source": [
        "from re import S\n",
        "class Animal:\n",
        "    def speak(self):\n",
        "        print(\"Animal speaks\")\n",
        "class Dog(Animal):\n",
        "    def speak(self):\n",
        "        print(\"Bark!\")\n",
        "A1 = Animal()\n",
        "A1.speak()\n",
        "D1 = Dog()\n",
        "D1.speak()"
      ],
      "metadata": {
        "colab": {
          "base_uri": "https://localhost:8080/"
        },
        "id": "FPt_434JViJP",
        "outputId": "342b0b9b-18a2-4793-abae-c84f467d9666"
      },
      "execution_count": null,
      "outputs": [
        {
          "output_type": "stream",
          "name": "stdout",
          "text": [
            "Animal speaks\n",
            "Bark!\n"
          ]
        }
      ]
    },
    {
      "cell_type": "markdown",
      "source": [
        "2. Write a program to create an abstract class Shape with a method area(). Derive classes Circle and Rectangle\n",
        "from it and implement the area() method in both."
      ],
      "metadata": {
        "id": "rBIe43NxXx7J"
      }
    },
    {
      "cell_type": "code",
      "source": [
        "import abc\n",
        "class Shape:\n",
        "  @abc.abstractclassmethod\n",
        "  def area(self):\n",
        "    pass\n",
        "\n",
        "class Circle(Shape):\n",
        "  def __init__(self, radius):\n",
        "        self.radius = radius\n",
        "  def area(self):\n",
        "    return 3.14 * self.radius ** 2\n",
        "\n",
        "class Rectangle(Shape):\n",
        "  def __init__(self, width, hight):\n",
        "    self.width = width\n",
        "    self.hight = hight\n",
        "  def area(self):\n",
        "    return self.width * self.hight\n",
        "\n",
        "c1 = Circle(5)\n",
        "r1 = Rectangle(10, 20)\n",
        "print(c1.area())\n",
        "print(r1.area())"
      ],
      "metadata": {
        "colab": {
          "base_uri": "https://localhost:8080/"
        },
        "id": "dgeViw0DXeWo",
        "outputId": "4210bee4-138e-48a9-8cd5-b0c41968896b"
      },
      "execution_count": null,
      "outputs": [
        {
          "output_type": "stream",
          "name": "stdout",
          "text": [
            "78.5\n",
            "200\n"
          ]
        }
      ]
    },
    {
      "cell_type": "markdown",
      "source": [
        "3. Implement a multi-level inheritance scenario where a class Vehicle has an attribute type. Derive a class Car\n",
        "and further derive a class ElectricCar that adds a battery attribute."
      ],
      "metadata": {
        "id": "5Q5UC_WlafND"
      }
    },
    {
      "cell_type": "code",
      "source": [
        "class Vehicle:\n",
        "    def __init__(self, type):\n",
        "        self.type = type\n",
        "\n",
        "\n",
        "class Car(Vehicle):\n",
        "    def __init__(self, type, brand):\n",
        "        super().__init__(type)\n",
        "        self.brand = brand\n",
        "\n",
        "\n",
        "class ElectricCar(Car):\n",
        "    def __init__(self, type, brand, battery):\n",
        "        super().__init__(type, brand)\n",
        "        self.battery = battery\n",
        "\n",
        "    def display_info(self):\n",
        "        print(f\"Type: {self.type}\")\n",
        "        print(f\"Brand: {self.brand}\")\n",
        "        print(f\"Battery: {self.battery}\")\n",
        "\n",
        "\n",
        "electric_car = ElectricCar(\"Electric\", \"Tesla\", \"100 kWh\")\n",
        "electric_car.display_info()"
      ],
      "metadata": {
        "id": "HiwmwaZ8aTxJ",
        "colab": {
          "base_uri": "https://localhost:8080/"
        },
        "outputId": "39c77441-45c6-4268-f074-7f6614557655"
      },
      "execution_count": 30,
      "outputs": [
        {
          "output_type": "stream",
          "name": "stdout",
          "text": [
            "Type: Electric\n",
            "Brand: Tesla\n",
            "Battery: 100 kWh\n"
          ]
        }
      ]
    },
    {
      "cell_type": "markdown",
      "source": [
        "4. Demonstrate polymorphism by creating a base class Bird with a method fly(). Create two derived classes\n",
        "Sparrow and Penguin that override the fly() method.\n"
      ],
      "metadata": {
        "id": "o8UW5qHlfBkj"
      }
    },
    {
      "cell_type": "code",
      "source": [
        "class Bird:\n",
        "  def fly(self):\n",
        "    print(\"bird can fly\")\n",
        "class Sparrow(Bird):\n",
        "  def fly(self):\n",
        "    print(\"sparrow can fly\")\n",
        "class Penguin(Bird):\n",
        "  def fly(self):\n",
        "    print(\"penguin can't fly\")\n",
        "\n",
        "birds = [Sparrow(), Penguin()]\n",
        "for b in birds:\n",
        "    b.fly()"
      ],
      "metadata": {
        "id": "Dc3ebt7CeUw0",
        "colab": {
          "base_uri": "https://localhost:8080/"
        },
        "outputId": "7c696077-99dd-49bc-ba70-1bbaab6bc4ea"
      },
      "execution_count": 32,
      "outputs": [
        {
          "output_type": "stream",
          "name": "stdout",
          "text": [
            "sparrow can fly\n",
            "penguin can't fly\n"
          ]
        }
      ]
    },
    {
      "cell_type": "markdown",
      "source": [
        "5. Write a program to demonstrate encapsulation by creating a class BankAccount with private attributes\n",
        "balance and methods to deposit, withdraw, and check balance"
      ],
      "metadata": {
        "id": "x6st4-oMgEKT"
      }
    },
    {
      "cell_type": "code",
      "source": [
        "class BankAccount:\n",
        "    def __init__(self, balance):\n",
        "        self.__balance = balance\n",
        "    def deposit(self, amount):\n",
        "        self.__balance += amount\n",
        "    def withdraw(self, amount):\n",
        "        if amount <= self.__balance:\n",
        "            self.__balance -= amount\n",
        "        else:\n",
        "            print(\"Insufficient balance\")\n",
        "b1 = BankAccount(1000)\n",
        "b1.deposit(500)\n",
        "b1.withdraw(200)\n",
        "print(b1._BankAccount__balance)"
      ],
      "metadata": {
        "colab": {
          "base_uri": "https://localhost:8080/"
        },
        "id": "1N38D3Hsf48E",
        "outputId": "bcf23ca7-4dd2-41e5-8280-85e8da5dd225"
      },
      "execution_count": 34,
      "outputs": [
        {
          "output_type": "stream",
          "name": "stdout",
          "text": [
            "1300\n"
          ]
        }
      ]
    },
    {
      "cell_type": "markdown",
      "source": [
        "6. Demonstrate runtime polymorphism using a method play() in a base class Instrument. Derive classes Guitar\n",
        "and Piano that implement their own version of play()."
      ],
      "metadata": {
        "id": "KF3Bgd0Hgl7r"
      }
    },
    {
      "cell_type": "code",
      "source": [
        "class Instrument:\n",
        "  def play(self):\n",
        "    print(\"playing instrument\")\n",
        "\n",
        "class Guitar(Instrument):\n",
        "  def play(self):\n",
        "    print(\"playing guitar\")\n",
        "\n",
        "class Piano(Instrument):\n",
        "  def play(self):\n",
        "    print(\"playing piano\")\n",
        "\n",
        "def perform(instrument):\n",
        "    instrument.play()\n",
        "\n",
        "perform(Guitar())\n",
        "perform(Piano())"
      ],
      "metadata": {
        "colab": {
          "base_uri": "https://localhost:8080/"
        },
        "id": "mlG-Alkkgb9i",
        "outputId": "2ed90c9e-13a5-4ddf-84de-773edeafe0f8"
      },
      "execution_count": 37,
      "outputs": [
        {
          "output_type": "stream",
          "name": "stdout",
          "text": [
            "playing guitar\n",
            "playing piano\n"
          ]
        }
      ]
    },
    {
      "cell_type": "markdown",
      "source": [
        "7. Create a class MathOperations with a class method add_numbers() to add two numbers and a static\n",
        "method subtract_numbers() to subtract two numbers"
      ],
      "metadata": {
        "id": "P64R2Mf8hv6W"
      }
    },
    {
      "cell_type": "code",
      "source": [
        "class MathOperations:\n",
        "  @classmethod\n",
        "  def add_numbers(cls, a, b):\n",
        "    return a + b\n",
        "  @staticmethod\n",
        "  def substract_numbers(a, b):\n",
        "    return a - b\n",
        "print(MathOperations.add_numbers(10, 20))\n",
        "print(MathOperations.substract_numbers(10, 20))"
      ],
      "metadata": {
        "colab": {
          "base_uri": "https://localhost:8080/"
        },
        "id": "Gqtx5wu9hbR0",
        "outputId": "12985249-1a96-4ce8-82e6-712730358751"
      },
      "execution_count": 39,
      "outputs": [
        {
          "output_type": "stream",
          "name": "stdout",
          "text": [
            "30\n",
            "-10\n"
          ]
        }
      ]
    },
    {
      "cell_type": "markdown",
      "source": [
        "8. Implement a class Person with a class method to count the total number of persons created."
      ],
      "metadata": {
        "id": "VGmm7V97iop2"
      }
    },
    {
      "cell_type": "code",
      "source": [
        "class Person:\n",
        "  count = 0\n",
        "  def __init__(self, name):\n",
        "    self.name = name\n",
        "    Person.count += 1\n",
        "\n",
        "  @classmethod\n",
        "  def get_count(cls):\n",
        "    return cls.count\n",
        "\n",
        "p1 = Person(\"Tejas\")\n",
        "p2 = Person(\"Ayush\")\n",
        "print(Person.get_count())"
      ],
      "metadata": {
        "colab": {
          "base_uri": "https://localhost:8080/"
        },
        "id": "pKLTPeydiOmg",
        "outputId": "fe1b80f7-11fd-4b37-d9ec-f0ce985f95d6"
      },
      "execution_count": 45,
      "outputs": [
        {
          "output_type": "stream",
          "name": "stdout",
          "text": [
            "2\n"
          ]
        }
      ]
    },
    {
      "cell_type": "markdown",
      "source": [
        "9. Write a class Fraction with attributes numerator and denominator. Override the str method to display the\n",
        "fraction as \"numerator/denominator\"."
      ],
      "metadata": {
        "id": "W9KU7uSdjrcn"
      }
    },
    {
      "cell_type": "code",
      "source": [
        "class Fraction:\n",
        "    def __init__(self, numerator, denominator):\n",
        "        self.numerator = numerator\n",
        "        self.denominator = denominator\n",
        "\n",
        "    def __str__(self):\n",
        "        return f\"{self.numerator}/{self.denominator}\"\n",
        "\n",
        "f = Fraction(400, 40)\n",
        "print(f)"
      ],
      "metadata": {
        "colab": {
          "base_uri": "https://localhost:8080/"
        },
        "id": "G4PddfdyjVRV",
        "outputId": "fafff252-bd42-4db2-e13f-87635eb39e1e"
      },
      "execution_count": 47,
      "outputs": [
        {
          "output_type": "stream",
          "name": "stdout",
          "text": [
            "400/40\n"
          ]
        }
      ]
    },
    {
      "cell_type": "markdown",
      "source": [
        "10. Demonstrate operator overloading by creating a class Vector and overriding the add method to add two\n",
        "vectors."
      ],
      "metadata": {
        "id": "CsHNlS0ek39u"
      }
    },
    {
      "cell_type": "code",
      "source": [
        "class Vector:\n",
        "    def __init__(self, x, y):\n",
        "        self.x = x\n",
        "        self.y = y\n",
        "\n",
        "    def __add__(self, other):\n",
        "        return Vector(self.x + other.x, self.y + other.y)\n",
        "\n",
        "    def __str__(self):\n",
        "        return f\"Vector({self.x}, {self.y})\"\n",
        "\n",
        "v1 = Vector(2, 3)\n",
        "v2 = Vector(4, 5)\n",
        "print(v1 + v2)"
      ],
      "metadata": {
        "colab": {
          "base_uri": "https://localhost:8080/"
        },
        "id": "oErAG0bVkSin",
        "outputId": "05881b26-474d-43f5-af9c-a36e9e0febe4"
      },
      "execution_count": 48,
      "outputs": [
        {
          "output_type": "stream",
          "name": "stdout",
          "text": [
            "Vector(6, 8)\n"
          ]
        }
      ]
    },
    {
      "cell_type": "markdown",
      "source": [
        "11. Create a class Person with attributes name and age. Add a method greet() that prints \"Hello, my name is\n",
        "{name} and I am {age} years old.\""
      ],
      "metadata": {
        "id": "kXU7h2qJlEqS"
      }
    },
    {
      "cell_type": "code",
      "source": [
        "class Person:\n",
        "  def __init__(self,name,age):\n",
        "    self.name = name\n",
        "    self.age = age\n",
        "  def greet(self):\n",
        "    print(f\"Hello, my name is {self.name} and I am {self.age} years old.\")\n",
        "p1 = Person(\"Prathmesh\", 22)\n",
        "p1.greet()"
      ],
      "metadata": {
        "colab": {
          "base_uri": "https://localhost:8080/"
        },
        "id": "WVdCpqJ3k7kM",
        "outputId": "51670949-3cbc-4d27-af9e-d3117c57db5f"
      },
      "execution_count": 53,
      "outputs": [
        {
          "output_type": "stream",
          "name": "stdout",
          "text": [
            "Hello, my name is Prathmesh and I am 22 years old.\n"
          ]
        }
      ]
    },
    {
      "cell_type": "markdown",
      "source": [
        "12. Implement a class Student with attributes name and grades. Create a method average_grade() to compute\n",
        "the average of the grades."
      ],
      "metadata": {
        "id": "92dI_yU2le6S"
      }
    },
    {
      "cell_type": "code",
      "source": [
        "class Student:\n",
        "  def __init__(self, name, grades):\n",
        "    self.name = name\n",
        "    self.grades = grades\n",
        "  def average_grade(self):\n",
        "    return sum(self.grades) / len(self.grades)\n",
        "avg = Student(\"prathmesh\",[80,70,87,69,91])\n",
        "avg.average_grade()"
      ],
      "metadata": {
        "colab": {
          "base_uri": "https://localhost:8080/"
        },
        "id": "w7IrUDuNlT-4",
        "outputId": "c7f75591-03c2-44f9-dccb-a2bffefb6b93"
      },
      "execution_count": 56,
      "outputs": [
        {
          "output_type": "execute_result",
          "data": {
            "text/plain": [
              "79.4"
            ]
          },
          "metadata": {},
          "execution_count": 56
        }
      ]
    },
    {
      "cell_type": "markdown",
      "source": [
        "13. Create a class Rectangle with methods set_dimensions() to set the dimensions and area() to calculate the\n",
        "area."
      ],
      "metadata": {
        "id": "koWNuUS-mk2Q"
      }
    },
    {
      "cell_type": "code",
      "source": [
        "class Rectangle:\n",
        "  def __init__(self, length, width):\n",
        "    self.length = length\n",
        "    self.width = width\n",
        "  def area(self):\n",
        "    return self.length * self.width\n",
        "r = Rectangle(10,20)\n",
        "r.area()"
      ],
      "metadata": {
        "colab": {
          "base_uri": "https://localhost:8080/"
        },
        "id": "7eIJSoeAmeb-",
        "outputId": "51ab8292-2a4e-4c5e-a332-65d786d4f66c"
      },
      "execution_count": 57,
      "outputs": [
        {
          "output_type": "execute_result",
          "data": {
            "text/plain": [
              "200"
            ]
          },
          "metadata": {},
          "execution_count": 57
        }
      ]
    },
    {
      "cell_type": "markdown",
      "source": [
        "14. Create a class Employee with a method calculate_salary() that computes the salary based on hours worked\n",
        "and hourly rate. Create a derived class Manager that adds a bonus to the salary."
      ],
      "metadata": {
        "id": "mGuQQfsjnESH"
      }
    },
    {
      "cell_type": "code",
      "source": [
        "class Employee:\n",
        "    def calculate_salary(self, hours, rate):\n",
        "        return hours * rate\n",
        "\n",
        "class Manager(Employee):\n",
        "    def calculate_salary(self, hours, rate, bonus):\n",
        "        base = super().calculate_salary(hours, rate)\n",
        "        return base + bonus\n",
        "\n",
        "m = Manager()\n",
        "print(m.calculate_salary(40, 50, 2000))"
      ],
      "metadata": {
        "colab": {
          "base_uri": "https://localhost:8080/"
        },
        "id": "uZSS06Cpm91w",
        "outputId": "d4fa9a94-394a-4367-a460-04566e8963aa"
      },
      "execution_count": 60,
      "outputs": [
        {
          "output_type": "stream",
          "name": "stdout",
          "text": [
            "4000\n"
          ]
        }
      ]
    },
    {
      "cell_type": "markdown",
      "source": [
        "15. Create a class Product with attributes name, price, and quantity. Implement a method total_price() that\n",
        "calculates the total price of the product."
      ],
      "metadata": {
        "id": "7o69mrs5oV-4"
      }
    },
    {
      "cell_type": "code",
      "source": [
        "class Product:\n",
        "  def __init__(self, name, price, quantity):\n",
        "    self.name = name\n",
        "    self.price = price\n",
        "    self.quantity = quantity\n",
        "  def total_price(self):\n",
        "    return self.price * self.quantity\n",
        "\n",
        "pro = Product(\"sope\", 99, 10)\n",
        "pro.total_price()"
      ],
      "metadata": {
        "colab": {
          "base_uri": "https://localhost:8080/"
        },
        "id": "3Z8MYq-5nOal",
        "outputId": "670e533e-d902-4da5-997f-a55cb672db06"
      },
      "execution_count": 63,
      "outputs": [
        {
          "output_type": "execute_result",
          "data": {
            "text/plain": [
              "990"
            ]
          },
          "metadata": {},
          "execution_count": 63
        }
      ]
    },
    {
      "cell_type": "markdown",
      "source": [
        "\n",
        "16. Create a class Animal with an abstract method sound(). Create two derived classes Cow and Sheep that\n",
        "implement the sound() method.\n"
      ],
      "metadata": {
        "id": "4tHvpMzso-f9"
      }
    },
    {
      "cell_type": "code",
      "source": [
        "import abc\n",
        "\n",
        "class Animal(ABC):\n",
        "    @abc.abstractclassmethod\n",
        "    def sound(self):\n",
        "        pass\n",
        "\n",
        "class Cow(Animal):\n",
        "    def sound(self):\n",
        "        return \"Moo\"\n",
        "\n",
        "class Sheep(Animal):\n",
        "    def sound(self):\n",
        "        return \"Baa\"\n",
        "\n",
        "\n",
        "c = Cow()\n",
        "s = Sheep()\n",
        "print(c.sound())\n",
        "print(s.sound())"
      ],
      "metadata": {
        "colab": {
          "base_uri": "https://localhost:8080/"
        },
        "id": "78AKUZoeojb4",
        "outputId": "8a63c715-fdfb-41e9-e6b6-055fd48badc7"
      },
      "execution_count": 65,
      "outputs": [
        {
          "output_type": "stream",
          "name": "stdout",
          "text": [
            "Moo\n",
            "Baa\n"
          ]
        }
      ]
    },
    {
      "cell_type": "markdown",
      "source": [
        "17. Create a class Book with attributes title, author, and year_published. Add a method get_book_info() that\n",
        "returns a formatted string with the book's details."
      ],
      "metadata": {
        "id": "r-U9AsGlpe6b"
      }
    },
    {
      "cell_type": "code",
      "source": [
        "class Book:\n",
        "  def __init__(self, title, author, year_published):\n",
        "    self.title = title\n",
        "    self.author = author\n",
        "    self.year_published = year_published\n",
        "  def get_book_info(self):\n",
        "    return f\"Title: {self.title}\\nAuthor: {self.author}\\nYear Published: {self.year_published}\"\n",
        "\n",
        "b = Book(\"The Book\", \"The writer\", 2000)\n",
        "print(b.get_book_info())"
      ],
      "metadata": {
        "colab": {
          "base_uri": "https://localhost:8080/"
        },
        "id": "ybwRTLT6pTGW",
        "outputId": "0ff8d688-05e5-483c-b278-9858729634f4"
      },
      "execution_count": 66,
      "outputs": [
        {
          "output_type": "stream",
          "name": "stdout",
          "text": [
            "Title: The Book\n",
            "Author: The writer\n",
            "Year Published: 2000\n"
          ]
        }
      ]
    },
    {
      "cell_type": "markdown",
      "source": [
        "18. Create a class House with attributes address and price. Create a derived class Mansion that adds an\n",
        "attribute number_of_rooms"
      ],
      "metadata": {
        "id": "P4EOszw2p8Hu"
      }
    },
    {
      "cell_type": "code",
      "source": [
        "class House:\n",
        "  def __init__(self, address, price):\n",
        "    self.address = address\n",
        "    self.price = price\n",
        "class Mansion(House):\n",
        "  def __init__(self, address, price, number_of_rooms):\n",
        "    super().__init__(address, price)\n",
        "    self.number_of_rooms = number_of_rooms\n",
        "\n",
        "m = Mansion(\"123 HINGNA HOMES\", 50000000, 10)\n",
        "print(f\"Address: {m.address}, Price: ₹{m.price}, Rooms: {m.number_of_rooms}\")\n"
      ],
      "metadata": {
        "colab": {
          "base_uri": "https://localhost:8080/"
        },
        "id": "f-nTs3N1p4Mh",
        "outputId": "1a2e9b8f-0f1c-440a-d475-c9d2fb4cda87"
      },
      "execution_count": 72,
      "outputs": [
        {
          "output_type": "stream",
          "name": "stdout",
          "text": [
            "Address: 123 HINGNA HOMES, Price: ₹50000000, Rooms: 10\n"
          ]
        }
      ]
    },
    {
      "cell_type": "code",
      "source": [],
      "metadata": {
        "id": "ri9knIcDrHxE"
      },
      "execution_count": null,
      "outputs": []
    }
  ]
}