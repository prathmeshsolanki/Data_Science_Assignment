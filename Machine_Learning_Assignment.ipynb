{
  "nbformat": 4,
  "nbformat_minor": 0,
  "metadata": {
    "colab": {
      "provenance": []
    },
    "kernelspec": {
      "name": "python3",
      "display_name": "Python 3"
    },
    "language_info": {
      "name": "python"
    }
  },
  "cells": [
    {
      "cell_type": "markdown",
      "source": [
        "## **Machine Learning Assignment**"
      ],
      "metadata": {
        "id": "zQthX0bl-HoC"
      }
    },
    {
      "cell_type": "markdown",
      "source": [
        "1. What is a parameter?"
      ],
      "metadata": {
        "id": "wMSiVeMuA0Pi"
      }
    },
    {
      "cell_type": "markdown",
      "source": [
        "Answer: A parameter is a variable that defines a model’s behavior during training. It is learned from the data and adjusted to minimize the error.\n",
        "\n",
        "- Example: In linear regression, the slope (m) and intercept (c) are parameters."
      ],
      "metadata": {
        "id": "8kw3hEa5A5pG"
      }
    },
    {
      "cell_type": "markdown",
      "source": [
        "2. What is correlation?"
      ],
      "metadata": {
        "id": "bfl2Omq5BMbN"
      }
    },
    {
      "cell_type": "markdown",
      "source": [
        "Answer: Correlation is a statistical measure that shows the relationship between two variables — how one changes with respect to the other.\n",
        "\n",
        "- Value ranges from -1 to +1.\n",
        "[+1 = perfect positive relation, -1 = perfect negative relation, 0 = no relation.]"
      ],
      "metadata": {
        "id": "Uus585fZBOJ1"
      }
    },
    {
      "cell_type": "markdown",
      "source": [
        "3. What does negative correlation mean?"
      ],
      "metadata": {
        "id": "Dk0X-MmPBOEM"
      }
    },
    {
      "cell_type": "markdown",
      "source": [
        "Answer: A negative correlation means that when one variable increases, the other decreases.\n",
        "\n",
        "- Example: Number of hours spent watching TV and exam scores."
      ],
      "metadata": {
        "id": "vKpY55PDBOA4"
      }
    },
    {
      "cell_type": "markdown",
      "source": [
        "4. Define Machine Learning. What are the main components in Machine Learning?"
      ],
      "metadata": {
        "id": "0odRnYnuBN80"
      }
    },
    {
      "cell_type": "markdown",
      "source": [
        "Answer: Machine Learning (ML) is a field of AI that enables computers to learn patterns from data without being explicitly programmed.\n",
        "\n",
        "Main Components:\n",
        "- Data – raw information.\n",
        "\n",
        "- Features – input variables.\n",
        "\n",
        "- Model – mathematical function.\n",
        "\n",
        "- Loss function – measures error.\n",
        "\n",
        "- Optimizer – reduces error.\n",
        "\n",
        "- Training – fitting model to data.\n",
        "\n",
        "- Testing – checking performance on unseen data."
      ],
      "metadata": {
        "id": "eZTJiIWNBN45"
      }
    },
    {
      "cell_type": "markdown",
      "source": [
        "5. How does loss value help in determining whether the model is good or not?"
      ],
      "metadata": {
        "id": "hHvdF1qRBN2I"
      }
    },
    {
      "cell_type": "markdown",
      "source": [
        "Answer: The loss value measures how far predictions are from actual values.\n",
        "\n",
        "- Low loss = better performance.\n",
        "\n",
        "- High loss = poor predictions."
      ],
      "metadata": {
        "id": "PYzPfsDGBNoF"
      }
    },
    {
      "cell_type": "markdown",
      "source": [
        "6. What are continuous and categorical variables?"
      ],
      "metadata": {
        "id": "tTDCCQF_CUSF"
      }
    },
    {
      "cell_type": "markdown",
      "source": [
        "Answer:\n",
        "- Continuous variables: Numeric, can take infinite values (e.g., height, salary, temperature).\n",
        "\n",
        "- Categorical variables: Represent groups/labels (e.g., gender, colors, city)."
      ],
      "metadata": {
        "id": "a3vv0lH8CULM"
      }
    },
    {
      "cell_type": "markdown",
      "source": [
        "7. How do we handle categorical variables in Machine Learning? What are the common techniques?"
      ],
      "metadata": {
        "id": "279zEaCKCUGa"
      }
    },
    {
      "cell_type": "markdown",
      "source": [
        "Answer: We cannot directly feed categorical data into ML models, so we encode them.\n",
        "\n",
        "Common Techniques:\n",
        "\n",
        "- Label Encoding – Assigns numbers to categories.\n",
        "\n",
        "- One-Hot Encoding – Creates binary columns (0/1).\n",
        "\n",
        "- Target/Frequency Encoding – Uses mean/occurrence of category."
      ],
      "metadata": {
        "id": "V3sgRV19CUDf"
      }
    },
    {
      "cell_type": "markdown",
      "source": [
        "8. What do you mean by training and testing a dataset?\n",
        "\n"
      ],
      "metadata": {
        "id": "qMhE6dMMDMGA"
      }
    },
    {
      "cell_type": "markdown",
      "source": [
        "Answer:\n",
        "- Training dataset: Used to teach the model (fit patterns).\n",
        "\n",
        "- Testing dataset: Used to check model performance on unseen data."
      ],
      "metadata": {
        "id": "6tdqnhRcDL75"
      }
    },
    {
      "cell_type": "markdown",
      "source": [
        "9. What is sklearn.preprocessing?\n",
        "\n"
      ],
      "metadata": {
        "id": "S5K8V8XJDLy2"
      }
    },
    {
      "cell_type": "markdown",
      "source": [
        "Answer:\n",
        "sklearn.preprocessing is a module in Scikit-learn that provides tools for:\n",
        "\n",
        "- Scaling, normalization\n",
        "\n",
        "- Encoding categorical data\n",
        "\n",
        "- Transforming features for ML models"
      ],
      "metadata": {
        "id": "ErftA9iqDLpy"
      }
    },
    {
      "cell_type": "markdown",
      "source": [
        "10. What is a Test set?\n",
        "\n"
      ],
      "metadata": {
        "id": "WkVrhRE2DtsF"
      }
    },
    {
      "cell_type": "markdown",
      "source": [
        "Answer: The test set is a part of the dataset reserved for final evaluation. The model has never seen this data during training."
      ],
      "metadata": {
        "id": "wwDlvorsDto8"
      }
    },
    {
      "cell_type": "markdown",
      "source": [
        "11. How do we split data for model fitting (training and testing) in Python?\n",
        "\n",
        "Answer: We use train_test_split from sklearn:\n",
        "\n",
        "                            from sklearn.model_selection import train_test_split\n",
        "                            X_train, X_test, y_train, y_test = train_test_split(X, y, test_size=0.2, random_state=42)"
      ],
      "metadata": {
        "id": "282-ZWxVDtki"
      }
    },
    {
      "cell_type": "markdown",
      "source": [
        "12. How do you approach a Machine Learning problem?\n",
        "\n",
        "Answer:\n",
        "\n",
        "1.Define the problem.\n",
        "\n",
        "2.Collect data.\n",
        "\n",
        "3.Perform EDA (Exploratory Data Analysis).\n",
        "\n",
        "4.Preprocess (handle missing values, encoding, scaling).\n",
        "\n",
        "5.Split into training & testing sets.\n",
        "\n",
        "6.Choose model.\n",
        "\n",
        "7.Train and evaluate.\n",
        "\n",
        "8.Tune hyperparameters.\n",
        "\n",
        "9.Deploy model."
      ],
      "metadata": {
        "id": "RAyz7hcKDszE"
      }
    },
    {
      "cell_type": "markdown",
      "source": [
        "13. Why do we have to perform EDA before fitting a model to the data?\n",
        "\n",
        "Answer:\n",
        "\n",
        "EDA helps to:\n",
        "\n",
        "- Understand data distribution.\n",
        "\n",
        "- Detect outliers & missing values.\n",
        "\n",
        "- Check correlation between variables.\n",
        "\n",
        "- Choose preprocessing techniques."
      ],
      "metadata": {
        "id": "-2L55A5uDsvI"
      }
    },
    {
      "cell_type": "markdown",
      "source": [
        "14. What is correlation?\n",
        "\n",
        "Answer: Correlation shows relationship between variables."
      ],
      "metadata": {
        "id": "VH8_7tUPExYg"
      }
    },
    {
      "cell_type": "markdown",
      "source": [
        "15. What does negative correlation mean?\n",
        "\n",
        "Answer: One increases while other decreases."
      ],
      "metadata": {
        "id": "cwjEI4WYExMK"
      }
    },
    {
      "cell_type": "markdown",
      "source": [
        "16. How can you find correlation between variables in Python?\n",
        "\n",
        "Answer:\n",
        "\n",
        "Using Pandas .corr() or Seaborn heatmap"
      ],
      "metadata": {
        "id": "1pjmWO-YEw-s"
      }
    },
    {
      "cell_type": "markdown",
      "source": [
        "17. What is causation? Explain difference between correlation and causation with an example.\n",
        "Answer:\n",
        "- Correlation = two variables move together.\n",
        "\n",
        "- Causation = one variable directly affects the other.\n",
        "\n",
        "> Example:\n",
        "\n",
        ">Ice cream sales and drowning cases are correlated (both increase in summer).\n",
        ">But ice cream does not cause drowning → That’s correlation, not causation."
      ],
      "metadata": {
        "id": "zr4ASXBQFOek"
      }
    },
    {
      "cell_type": "markdown",
      "source": [
        "18. What is an Optimizer? What are different types of optimizers? Explain each with an example.\n",
        "\n",
        "Answer: An optimizer updates model parameters to minimize loss.\n",
        "\n",
        "Types:\n",
        "\n",
        "- Gradient Descent – updates weights step by step.\n",
        "\n",
        "- SGD (Stochastic Gradient Descent) – updates weights after each sample.\n",
        "\n",
        "- Adam – adaptive learning rate, widely used.\n",
        "\n",
        "- RMSProp – scales learning rate using moving average.\n",
        "\n",
        "Example (Adam):\n",
        "\n",
        "                    from tensorflow.keras.optimizers import Adam\n",
        "                    optimizer = Adam(learning_rate=0.01)"
      ],
      "metadata": {
        "id": "hWK9hx9CFOZJ"
      }
    },
    {
      "cell_type": "markdown",
      "source": [
        "19. What is sklearn.linear_model ?\n",
        "\n",
        "Answer: sklearn.linear_model is a Scikit-learn module with algorithms like:\n",
        "\n",
        "- Linear Regression\n",
        "\n",
        "- Logistic Regression\n",
        "\n",
        "- Ridge, Lasso, ElasticNet\n",
        "\n",
        "\n",
        "\n",
        "\n",
        "20. What does model.fit() do? What arguments must be given?\n",
        "\n",
        "Answer: model.fit(X, y) trains the model on input data X and target labels y.\n",
        "\n",
        "- X = features\n",
        "\n",
        "- y = target/output"
      ],
      "metadata": {
        "id": "GMEClDqzFOSs"
      }
    },
    {
      "cell_type": "markdown",
      "source": [
        "21. What does model.predict() do? What arguments must be given?\n",
        "\n",
        "Answer: model.predict(X_test) generates predictions for given input features.\n",
        "\n",
        "- X_test = unseen features"
      ],
      "metadata": {
        "id": "zyuAMC0cG5W5"
      }
    },
    {
      "cell_type": "markdown",
      "source": [
        "22. What are continuous and categorical variables?\n",
        "\n",
        "Answer:\n",
        "- Continuous variables: Numeric, can take infinite values (e.g., height, salary, temperature).\n",
        "\n",
        "- Categorical variables: Represent groups/labels (e.g., gender, colors, city)."
      ],
      "metadata": {
        "id": "KwufVTM0G5Jw"
      }
    },
    {
      "cell_type": "markdown",
      "source": [
        "23. What is feature scaling? How does it help in Machine Learning?\n",
        "\n",
        "Answer: Feature scaling standardizes the range of values so that no variable dominates.\n",
        "\n",
        "- Helps gradient descent converge faster.\n",
        "\n",
        "- Improves accuracy for distance-based models (KNN, SVM)."
      ],
      "metadata": {
        "id": "WJmY7MA0G3pI"
      }
    },
    {
      "cell_type": "markdown",
      "source": [
        "24. How do we perform scaling in Python?\n",
        "\n",
        "Answer: Using sklearn’s StandardScaler or MinMaxScaler:\n",
        "\n",
        "                from sklearn.preprocessing import StandardScaler, MinMaxScaler\n",
        "                scaler = StandardScaler()\n",
        "                X_scaled = scaler.fit_transform(X)"
      ],
      "metadata": {
        "id": "nsunLi8gG3lJ"
      }
    },
    {
      "cell_type": "markdown",
      "source": [
        "25. What is sklearn.preprocessing?\n",
        "\n",
        "Answer: sklearn.preprocessing is a module in Scikit-learn that provides tools for:\n",
        "\n",
        "- Scaling, normalization\n",
        "\n",
        "- Encoding categorical data\n",
        "\n",
        "- Transforming features for ML models\n",
        "\n"
      ],
      "metadata": {
        "id": "3d7FijApItG7"
      }
    },
    {
      "cell_type": "markdown",
      "source": [
        "26. How do we split data for model fitting (training and testing) in Python?\n",
        "\n",
        "Answer: We use train_test_split from sklearn:\n",
        "\n",
        "                        from sklearn.model_selection import train_test_split\n",
        "                        X_train, X_test, y_train, y_test = train_test_split(X, y, test_size=0.2, random_state=42)\n",
        "\n",
        "27. Explain data encoding?\n",
        "\n",
        "Answer: Data encoding converts categorical variables into numeric values so that ML models can process them.\n",
        "\n",
        "Types:\n",
        "\n",
        "- Label Encoding – Converts categories into numbers.\n",
        "\n",
        "- One-Hot Encoding – Creates binary columns.\n",
        "\n",
        "- Ordinal Encoding – Maintains order (Low < Medium < High)."
      ],
      "metadata": {
        "id": "DDO_1VFiIs5_"
      }
    },
    {
      "cell_type": "code",
      "source": [],
      "metadata": {
        "id": "Fs1nR_qN-Rhx"
      },
      "execution_count": null,
      "outputs": []
    }
  ]
}