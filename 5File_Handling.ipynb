{
  "nbformat": 4,
  "nbformat_minor": 0,
  "metadata": {
    "colab": {
      "provenance": []
    },
    "kernelspec": {
      "name": "python3",
      "display_name": "Python 3"
    },
    "language_info": {
      "name": "python"
    }
  },
  "cells": [
    {
      "cell_type": "markdown",
      "source": [
        "# Files, exceptional handling, logging and memory management Questions"
      ],
      "metadata": {
        "id": "1oZKVqnYoeAo"
      }
    },
    {
      "cell_type": "markdown",
      "source": [
        "1. What is the difference between interpreted and compiled languages?\n",
        "\n",
        "* Interpreted Language: Code is executed line-by-line by an interpreter (e.g., Python, JavaScript).\n",
        "\n",
        "> Pros: Easier debugging, platform-independent, no need for separate compilation.\n",
        "\n",
        "> Cons: Slower execution compared to compiled languages.\n",
        "\n",
        "* Compiled Language: Code is translated into machine code by a compiler before execution (e.g., C, C++).\n",
        "\n",
        "> Pros: Faster execution speed.\n",
        "\n",
        "> Cons: Needs recompilation for each platform.\n"
      ],
      "metadata": {
        "id": "f_OrtvzAod9m"
      }
    },
    {
      "cell_type": "markdown",
      "source": [
        "2. What is exception handling in Python?\n",
        "- It is a mechanism to handle errors during program execution without crashing the program.\n",
        "\n",
        "> Uses keywords: try, except, else, finally."
      ],
      "metadata": {
        "id": "9mT2AADZod6r"
      }
    },
    {
      "cell_type": "markdown",
      "source": [
        "3. What is the purpose of the finally block in exception handling?\n",
        "\n",
        "- finally contains code that will always execute, regardless of whether an exception occurred or not.\n",
        "\n",
        "- Commonly used for cleanup operations like closing files or releasing resources."
      ],
      "metadata": {
        "id": "qW9PP2cAod4g"
      }
    },
    {
      "cell_type": "markdown",
      "source": [
        "4. What is logging in Python?\n",
        "- Logging records events, warnings, errors, or informational messages during program execution.\n",
        "\n",
        "- Useful for debugging and monitoring applications."
      ],
      "metadata": {
        "id": "B_42b8W0od0i"
      }
    },
    {
      "cell_type": "markdown",
      "source": [
        "5. What is the significance of the __del__ method in Python?\n",
        "- It’s a destructor method, called when an object is about to be destroyed.\n",
        "\n",
        "- Used to release resources before object deletion.\n",
        "\n",
        "> Example: Closing a file or network connection when the object is deleted."
      ],
      "metadata": {
        "id": "VH2Mowjxody_"
      }
    },
    {
      "cell_type": "markdown",
      "source": [
        "6. What is the difference between import and from ... import in Python?\n",
        "\n",
        "- import module: Imports the entire module; access functions with module.function().\n",
        "\n",
        "- from module import function: Imports only specific functions or variables directly."
      ],
      "metadata": {
        "id": "mz7Jp2ACodu5"
      }
    },
    {
      "cell_type": "markdown",
      "source": [
        "7. How can you handle multiple exceptions in Python?"
      ],
      "metadata": {
        "id": "k3u7MIxctTag"
      }
    },
    {
      "cell_type": "code",
      "source": [
        "try:\n",
        "    x = int(\"abc\")\n",
        "except (ValueError, TypeError) as e:\n",
        "    print(f\"Error: {e}\")"
      ],
      "metadata": {
        "colab": {
          "base_uri": "https://localhost:8080/"
        },
        "id": "_wO4u_H2tPeV",
        "outputId": "15e7c2e8-2368-4c81-a7ad-9375a3a34a97"
      },
      "execution_count": 1,
      "outputs": [
        {
          "output_type": "stream",
          "name": "stdout",
          "text": [
            "Error: invalid literal for int() with base 10: 'abc'\n"
          ]
        }
      ]
    },
    {
      "cell_type": "markdown",
      "source": [
        "8. What is the purpose of the with statement when handling files in Python?\n",
        "- Automatically opens and closes the file, even if an error occurs.\n",
        "\n",
        "- Prevents resource leaks.\n",
        "\n",
        ">with open(\"file.txt\") as f:\n",
        "    data = f.read()\n"
      ],
      "metadata": {
        "id": "TR6c8ijPodou"
      }
    },
    {
      "cell_type": "markdown",
      "source": [
        "9. What is the difference between multithreading and multiprocessing?\n",
        "- Multithreading: Multiple threads share the same memory space (good for I/O-bound tasks).\n",
        "\n",
        "- Multiprocessing: Multiple processes have separate memory (good for CPU-bound tasks)."
      ],
      "metadata": {
        "id": "mIH7CtqMt2Pe"
      }
    },
    {
      "cell_type": "markdown",
      "source": [
        "10. What are the advantages of using logging in a program?\n",
        "- Keeps a permanent record of events.\n",
        "\n",
        "- Helps debug without interrupting the program.\n",
        "\n",
        "- Can be configured for different output formats and levels."
      ],
      "metadata": {
        "id": "eBmlvWXUodnD"
      }
    },
    {
      "cell_type": "markdown",
      "source": [
        "11. What is memory management in Python?\n",
        "- Python automatically manages memory using a private heap and a garbage collector.\n",
        "\n",
        "- Allocates and frees memory as needed."
      ],
      "metadata": {
        "id": "J4ozanBoodir"
      }
    },
    {
      "cell_type": "markdown",
      "source": [
        "12. What are the basic steps involved in exception handling in Python?\n",
        "\n",
        "1: Wrap risky code in try.\n",
        "\n",
        "2: Catch errors with except.\n",
        "\n",
        "3: Optionally add else for code that runs if no error occurs.\n",
        "\n",
        "4: Use finally for cleanup code.\n",
        "\n"
      ],
      "metadata": {
        "id": "WGBjybzCodhI"
      }
    },
    {
      "cell_type": "markdown",
      "source": [
        "13. Why is memory management important in Python?\n",
        "- Prevents memory leaks.\n",
        "\n",
        "- Improves performance by freeing unused memory."
      ],
      "metadata": {
        "id": "4f6N-g07oddL"
      }
    },
    {
      "cell_type": "markdown",
      "source": [
        "14. What is the role of try and except in exception handling?\n",
        "- try: Contains code that may raise an error.\n",
        "\n",
        "- except: Handles the error and prevents program crash."
      ],
      "metadata": {
        "id": "2DVwR5v4odbH"
      }
    },
    {
      "cell_type": "markdown",
      "source": [
        "15. How does Python's garbage collection system work?\n",
        "\n",
        "- Uses reference counting and generational garbage collection.\n",
        "\n",
        "- When an object’s reference count drops to 0, it is deleted.\n",
        "\n"
      ],
      "metadata": {
        "id": "BqxC3VE3odXA"
      }
    },
    {
      "cell_type": "markdown",
      "source": [
        "16. What is the purpose of the else block in exception handling?\n",
        "- Runs only if no exception is raised in the try block.\n",
        "\n"
      ],
      "metadata": {
        "id": "H4hgFARaodU7"
      }
    },
    {
      "cell_type": "markdown",
      "source": [
        "17. What are the common logging levels in Python?\n",
        "\n",
        "- DEBUG → Detailed diagnostic info.\n",
        "\n",
        "- INFO → General program events.\n",
        "\n",
        "- WARNING → Something unexpected but still working.\n",
        "\n",
        "- ERROR → A problem occurred, but program continues.\n",
        "\n",
        "- CRITICAL → Serious error; program may stop."
      ],
      "metadata": {
        "id": "X1YFrl-NodQ7"
      }
    },
    {
      "cell_type": "markdown",
      "source": [
        "18. What is the difference between os.fork() and multiprocessing in Python?\n",
        "- os.fork(): Unix-only, directly creates a child process.\n",
        "\n",
        "- multiprocessing: Cross-platform module for creating processes in Python."
      ],
      "metadata": {
        "id": "Mjyz0CdPodPJ"
      }
    },
    {
      "cell_type": "markdown",
      "source": [
        "19. What is the importance of closing a file in Python?\n",
        "- Frees system resources.\n",
        "\n",
        "- Ensures all data is written to disk (flushes buffer)."
      ],
      "metadata": {
        "id": "1EDgQnnOodKz"
      }
    },
    {
      "cell_type": "markdown",
      "source": [
        "20. What is the difference between file.read() and file.readline() in Python?\n",
        "- read(): Reads the entire file (or given number of bytes).\n",
        "\n",
        "- readline(): Reads one line at a time."
      ],
      "metadata": {
        "id": "dbXJTQO5odIv"
      }
    },
    {
      "cell_type": "markdown",
      "source": [
        "21. What is the logging module in Python used for?\n",
        "- Built-in module for generating log messages in different formats and levels."
      ],
      "metadata": {
        "id": "zoebjaKtodAy"
      }
    },
    {
      "cell_type": "markdown",
      "source": [
        "22. What is the os module in Python used for in file handling?\n",
        "- For interacting with the operating system: creating, deleting, moving files, checking paths.\n",
        "\n"
      ],
      "metadata": {
        "id": "dY1q2n2Xoc4C"
      }
    },
    {
      "cell_type": "markdown",
      "source": [
        "23. What are the challenges associated with memory management in Python?\n",
        "- Circular references can delay garbage collection.\n",
        "\n",
        "- Large unused objects may consume memory before collection."
      ],
      "metadata": {
        "id": "yiaK_LCNocs4"
      }
    },
    {
      "cell_type": "markdown",
      "source": [
        "24. How do you raise an exception manually in Python?\n",
        "\n",
        "- raise ValueError(\"Invalid input!\")"
      ],
      "metadata": {
        "id": "0Rxw3fYuocft"
      }
    },
    {
      "cell_type": "markdown",
      "source": [
        "25. Why is it important to use multithreading in certain applications?\n",
        "- Improves responsiveness for I/O-bound tasks (e.g., network requests).\n",
        "\n",
        "- Allows concurrent operations without waiting for one to finish.\n",
        "\n"
      ],
      "metadata": {
        "id": "73c_DltLvaPl"
      }
    },
    {
      "cell_type": "code",
      "execution_count": 2,
      "metadata": {
        "id": "r5-5dHWpoT5T"
      },
      "outputs": [],
      "source": []
    },
    {
      "cell_type": "code",
      "source": [],
      "metadata": {
        "id": "6g6xqdqKveB9"
      },
      "execution_count": null,
      "outputs": []
    },
    {
      "cell_type": "markdown",
      "source": [
        "# **Practical Questions**"
      ],
      "metadata": {
        "id": "lY5iuA7kve76"
      }
    },
    {
      "cell_type": "markdown",
      "source": [
        "1. How can you open a file for writing in Python and write a string to it?"
      ],
      "metadata": {
        "id": "ZRqbjHiOwB1I"
      }
    },
    {
      "cell_type": "code",
      "source": [
        "with open(\"example.txt\", \"w\") as file:\n",
        "  file.write(\"hello, world!\")\n",
        "\n",
        "# Explanation:\n",
        "# \"w\" --> write mode (overwrites file if exists).\n",
        "# with ensures file closes automatically."
      ],
      "metadata": {
        "id": "eNhX_Q3nvkXw"
      },
      "execution_count": 3,
      "outputs": []
    },
    {
      "cell_type": "markdown",
      "source": [
        "2. Write a Python program to read the contents of a file and print each line."
      ],
      "metadata": {
        "id": "1na4pQ2qxE3I"
      }
    },
    {
      "cell_type": "code",
      "source": [
        "with open(\"example.txt\", \"r\") as file:\n",
        "    for line in file:\n",
        "        print(line.strip())\n",
        "\n",
        "\n",
        "# Explanation:\n",
        "# \"r\" → read mode.\n",
        "# .strip() removes extra spaces/newlines."
      ],
      "metadata": {
        "colab": {
          "base_uri": "https://localhost:8080/"
        },
        "id": "QDRK_ZD5wPD_",
        "outputId": "ef98997d-0dda-4c8d-b08e-bd7fc1ec09c5"
      },
      "execution_count": 4,
      "outputs": [
        {
          "output_type": "stream",
          "name": "stdout",
          "text": [
            "hello, world!\n"
          ]
        }
      ]
    },
    {
      "cell_type": "markdown",
      "source": [
        "3. How would you handle a case where the file doesn't exist while trying to open it for reading"
      ],
      "metadata": {
        "id": "2Gj3NvBBxZbk"
      }
    },
    {
      "cell_type": "code",
      "source": [
        "try:\n",
        "    with open(\"nonexistent.txt\", \"r\") as file:\n",
        "        print(file.read())\n",
        "except FileNotFoundError:\n",
        "    print(\"File not found!\")"
      ],
      "metadata": {
        "colab": {
          "base_uri": "https://localhost:8080/"
        },
        "id": "QqFv-bioxJgW",
        "outputId": "5c9bcd91-783b-48cb-bcbe-ee2f8b034bef"
      },
      "execution_count": 5,
      "outputs": [
        {
          "output_type": "stream",
          "name": "stdout",
          "text": [
            "File not found!\n"
          ]
        }
      ]
    },
    {
      "cell_type": "markdown",
      "source": [
        "4. Write a Python script that reads from one file and writes its content to another file."
      ],
      "metadata": {
        "id": "sgHgMHdUxyin"
      }
    },
    {
      "cell_type": "code",
      "source": [
        "with open(\"example.txt\", \"r\") as src, open(\"example.txt\", \"w\") as dest:\n",
        "    dest.write(src.read())"
      ],
      "metadata": {
        "id": "RO66EQrYxaW6"
      },
      "execution_count": 7,
      "outputs": []
    },
    {
      "cell_type": "markdown",
      "source": [
        "5. How would you catch and handle division by zero error in Python?"
      ],
      "metadata": {
        "id": "NUVquwAhyIjA"
      }
    },
    {
      "cell_type": "code",
      "source": [
        "try:\n",
        "    result = 10 / 0\n",
        "except ZeroDivisionError:\n",
        "    print(\"Cannot divide by zero!\")"
      ],
      "metadata": {
        "colab": {
          "base_uri": "https://localhost:8080/"
        },
        "id": "H6HOcIzxx7Ah",
        "outputId": "f7a6179d-cbfb-4682-c4a4-6ff0f13ddaba"
      },
      "execution_count": 9,
      "outputs": [
        {
          "output_type": "stream",
          "name": "stdout",
          "text": [
            "Cannot divide by zero!\n"
          ]
        }
      ]
    },
    {
      "cell_type": "markdown",
      "source": [
        "6. Write a Python program that logs an error message to a log file when a division by zero exception occurs."
      ],
      "metadata": {
        "id": "nveHeCP3yQ8b"
      }
    },
    {
      "cell_type": "code",
      "source": [
        "import logging\n",
        "\n",
        "logging.basicConfig(filename=\"error.log\", level=logging.ERROR)\n",
        "\n",
        "try:\n",
        "    result = 10 / 0\n",
        "except ZeroDivisionError as e:\n",
        "    logging.error(f\"Error occurred: {e}\")\n"
      ],
      "metadata": {
        "colab": {
          "base_uri": "https://localhost:8080/"
        },
        "id": "Fg4SV07pyMO0",
        "outputId": "6accf24d-f14c-44bf-c106-492231ed6c00"
      },
      "execution_count": 10,
      "outputs": [
        {
          "output_type": "stream",
          "name": "stderr",
          "text": [
            "ERROR:root:Error occurred: division by zero\n"
          ]
        }
      ]
    },
    {
      "cell_type": "markdown",
      "source": [
        "7. How do you log information at different levels (INFO, ERROR, WARNING) in Python using the logging module?"
      ],
      "metadata": {
        "id": "P8ic6z_-yhjB"
      }
    },
    {
      "cell_type": "code",
      "source": [
        "import logging\n",
        "\n",
        "logging.basicConfig(level=logging.DEBUG)\n",
        "logging.info(\"This is INFO level.\")\n",
        "logging.warning(\"This is WARNING level.\")\n",
        "logging.error(\"This is ERROR level.\")"
      ],
      "metadata": {
        "colab": {
          "base_uri": "https://localhost:8080/"
        },
        "id": "w-kRk6loycId",
        "outputId": "c4227dfa-30fb-4534-8f83-cc8add332d79"
      },
      "execution_count": 11,
      "outputs": [
        {
          "output_type": "stream",
          "name": "stderr",
          "text": [
            "WARNING:root:This is WARNING level.\n",
            "ERROR:root:This is ERROR level.\n"
          ]
        }
      ]
    },
    {
      "cell_type": "markdown",
      "source": [
        "8. Write a program to handle a file opening error using exception handling."
      ],
      "metadata": {
        "id": "h9y2R9CtyrWi"
      }
    },
    {
      "cell_type": "code",
      "source": [
        "try:\n",
        "    file = open(\"nonexistent.txt\", \"r\")\n",
        "except FileNotFoundError:\n",
        "    print(\"The file does not exist!\")"
      ],
      "metadata": {
        "colab": {
          "base_uri": "https://localhost:8080/"
        },
        "id": "1nHuNepYynS3",
        "outputId": "13d01065-d5b1-49b0-cdca-e95f2c3d1634"
      },
      "execution_count": 12,
      "outputs": [
        {
          "output_type": "stream",
          "name": "stdout",
          "text": [
            "The file does not exist!\n"
          ]
        }
      ]
    },
    {
      "cell_type": "markdown",
      "source": [
        "9. How can you read a file line by line and store its content in a list in Python?"
      ],
      "metadata": {
        "id": "G4fU52gVy2Ja"
      }
    },
    {
      "cell_type": "code",
      "source": [
        "with open(\"example.txt\", \"r\") as file:\n",
        "    lines = [line.strip() for line in file]\n",
        "print(lines)"
      ],
      "metadata": {
        "colab": {
          "base_uri": "https://localhost:8080/"
        },
        "id": "FCeb5vssyzgk",
        "outputId": "38bd994f-02e4-4c01-f538-606ae0250f1e"
      },
      "execution_count": 13,
      "outputs": [
        {
          "output_type": "stream",
          "name": "stdout",
          "text": [
            "[]\n"
          ]
        }
      ]
    },
    {
      "cell_type": "markdown",
      "source": [
        "10. How can you append data to an existing file in Python\u001f\n"
      ],
      "metadata": {
        "id": "mQwG5arizBV9"
      }
    },
    {
      "cell_type": "code",
      "source": [
        "with open(\"example.txt\", \"a\") as file:\n",
        "    file.write(\"\\nAppended line.\")"
      ],
      "metadata": {
        "id": "8i1_0LfFy8Bx"
      },
      "execution_count": 14,
      "outputs": []
    },
    {
      "cell_type": "markdown",
      "source": [
        "11. Write a Python program that uses a try-except block to handle an error when attempting to access a dictionary key that doesn't exist.\n"
      ],
      "metadata": {
        "id": "8DvC9RzqzMcN"
      }
    },
    {
      "cell_type": "code",
      "source": [
        "try:\n",
        "    my_dict = {\"name\": \"John\"}\n",
        "    print(my_dict[\"age\"])\n",
        "except KeyError:\n",
        "    print(\"Key not found in dictionary!\")\n"
      ],
      "metadata": {
        "colab": {
          "base_uri": "https://localhost:8080/"
        },
        "id": "vurmLtbo0VG1",
        "outputId": "f6505c06-d008-4b56-b84e-865785242461"
      },
      "execution_count": 15,
      "outputs": [
        {
          "output_type": "stream",
          "name": "stdout",
          "text": [
            "Key not found in dictionary!\n"
          ]
        }
      ]
    },
    {
      "cell_type": "markdown",
      "source": [
        "12. Write a program that demonstrates using multiple except blocks to handle different types of exceptions."
      ],
      "metadata": {
        "id": "iqrau4q7zMXN"
      }
    },
    {
      "cell_type": "code",
      "source": [
        "try:\n",
        "    x = int(\"abc\")  # ValueError\n",
        "    y = 10 / 0      # ZeroDivisionError\n",
        "except ValueError:\n",
        "    print(\"Invalid value!\")\n",
        "except ZeroDivisionError:\n",
        "    print(\"Cannot divide by zero!\")\n"
      ],
      "metadata": {
        "colab": {
          "base_uri": "https://localhost:8080/"
        },
        "id": "Tj3yRjA10V4s",
        "outputId": "f9f3af22-c79e-40fc-843d-d11f78708112"
      },
      "execution_count": 16,
      "outputs": [
        {
          "output_type": "stream",
          "name": "stdout",
          "text": [
            "Invalid value!\n"
          ]
        }
      ]
    },
    {
      "cell_type": "markdown",
      "source": [
        "13. How would you check if a file exists before attempting to read it in Python?"
      ],
      "metadata": {
        "id": "v16VvCQwzLbB"
      }
    },
    {
      "cell_type": "code",
      "source": [
        "import os\n",
        "\n",
        "if os.path.exists(\"example.txt\"):\n",
        "    with open(\"example.txt\") as file:\n",
        "        print(file.read())\n",
        "else:\n",
        "    print(\"File does not exist!\")\n"
      ],
      "metadata": {
        "colab": {
          "base_uri": "https://localhost:8080/"
        },
        "id": "vk_3C0_G0W0D",
        "outputId": "33720dc3-8bb3-4bf0-8696-d81c4aa57f2d"
      },
      "execution_count": 17,
      "outputs": [
        {
          "output_type": "stream",
          "name": "stdout",
          "text": [
            "\n",
            "Appended line.\n"
          ]
        }
      ]
    },
    {
      "cell_type": "markdown",
      "source": [
        "14. Write a program that uses the logging module to log both informational and error messages."
      ],
      "metadata": {
        "id": "y_URP-eYzLWa"
      }
    },
    {
      "cell_type": "code",
      "source": [
        "import logging\n",
        "\n",
        "logging.basicConfig(filename=\"app.log\", level=logging.INFO)\n",
        "\n",
        "logging.info(\"Program started successfully.\")\n",
        "try:\n",
        "    x = 10 / 0\n",
        "except ZeroDivisionError:\n",
        "    logging.error(\"Division by zero error!\")\n"
      ],
      "metadata": {
        "colab": {
          "base_uri": "https://localhost:8080/"
        },
        "id": "VJk_HWY10XpF",
        "outputId": "97728e1e-3b63-42db-d008-1b3c761d6891"
      },
      "execution_count": 18,
      "outputs": [
        {
          "output_type": "stream",
          "name": "stderr",
          "text": [
            "ERROR:root:Division by zero error!\n"
          ]
        }
      ]
    },
    {
      "cell_type": "markdown",
      "source": [
        "15. Write a Python program that prints the content of a file and handles the case when the file is empty."
      ],
      "metadata": {
        "id": "s4oueTwgzLMY"
      }
    },
    {
      "cell_type": "code",
      "source": [
        "with open(\"example.txt\", \"r\") as file:\n",
        "    content = file.read()\n",
        "    if not content:\n",
        "        print(\"File is empty.\")\n",
        "    else:\n",
        "        print(content)\n"
      ],
      "metadata": {
        "colab": {
          "base_uri": "https://localhost:8080/"
        },
        "id": "MwiQBlna0YWA",
        "outputId": "4fd51d01-ff14-447f-ae3a-cf29e6d38488"
      },
      "execution_count": 19,
      "outputs": [
        {
          "output_type": "stream",
          "name": "stdout",
          "text": [
            "\n",
            "Appended line.\n"
          ]
        }
      ]
    },
    {
      "cell_type": "markdown",
      "source": [
        "16.  Demonstrate how to use memory profiling to check the memory usage of a small program"
      ],
      "metadata": {
        "id": "QcdWflBfzr7N"
      }
    },
    {
      "cell_type": "code",
      "source": [],
      "metadata": {
        "id": "ga9c8ZTD07p3"
      },
      "execution_count": null,
      "outputs": []
    },
    {
      "cell_type": "markdown",
      "source": [
        " 17. Write a Python program to create and write a list of numbers to a file, one number per line."
      ],
      "metadata": {
        "id": "XpAK-_Whzrqg"
      }
    },
    {
      "cell_type": "code",
      "source": [
        "numbers = [1, 2, 3, 4, 5]\n",
        "with open(\"numbers.txt\", \"w\") as file:\n",
        "    for num in numbers:\n",
        "        file.write(f\"{num}\\n\")\n"
      ],
      "metadata": {
        "id": "g0R-bRuG0Zma"
      },
      "execution_count": 23,
      "outputs": []
    },
    {
      "cell_type": "markdown",
      "source": [
        "18. How would you implement a basic logging setup that logs to a file with rotation after 1MB?"
      ],
      "metadata": {
        "id": "UBn4cbayzrlz"
      }
    },
    {
      "cell_type": "code",
      "source": [
        "import logging\n",
        "from logging.handlers import RotatingFileHandler\n",
        "\n",
        "handler = RotatingFileHandler(\"rotating.log\", maxBytes=1_000_000, backupCount=3)\n",
        "logging.basicConfig(handlers=[handler], level=logging.INFO)\n",
        "\n",
        "logging.info(\"This will be stored in rotating log file.\")\n"
      ],
      "metadata": {
        "id": "2c1hB66N0aU2"
      },
      "execution_count": 22,
      "outputs": []
    },
    {
      "cell_type": "markdown",
      "source": [
        "19. Write a program that handles both IndexError and KeyError using a try-except block."
      ],
      "metadata": {
        "id": "OPu6IYYkzrhL"
      }
    },
    {
      "cell_type": "code",
      "source": [
        "data = {\"name\": \"Alice\"}\n",
        "try:\n",
        "    print(data[\"age\"])     # KeyError\n",
        "    my_list = [1, 2]\n",
        "    print(my_list[5])      # IndexError\n",
        "except KeyError:\n",
        "    print(\"Key not found!\")\n",
        "except IndexError:\n",
        "    print(\"List index out of range!\")"
      ],
      "metadata": {
        "colab": {
          "base_uri": "https://localhost:8080/"
        },
        "id": "X-bsgZRP0a-l",
        "outputId": "546f45f2-00fb-45e4-d5d2-bbf362637aeb"
      },
      "execution_count": 24,
      "outputs": [
        {
          "output_type": "stream",
          "name": "stdout",
          "text": [
            "Key not found!\n"
          ]
        }
      ]
    },
    {
      "cell_type": "markdown",
      "source": [
        "20. How would you open a file and read its contents using a context manager in Python?"
      ],
      "metadata": {
        "id": "l4ibuhD_zK60"
      }
    },
    {
      "cell_type": "code",
      "source": [
        "with open(\"example.txt\", \"r\") as file:\n",
        "    print(file.read())\n"
      ],
      "metadata": {
        "colab": {
          "base_uri": "https://localhost:8080/"
        },
        "id": "xCz5T6g90bpW",
        "outputId": "9a299a4a-e513-4df5-f343-04af37d73f1b"
      },
      "execution_count": 25,
      "outputs": [
        {
          "output_type": "stream",
          "name": "stdout",
          "text": [
            "\n",
            "Appended line.\n"
          ]
        }
      ]
    },
    {
      "cell_type": "markdown",
      "source": [
        "21. Write a Python program that reads a file and prints the number of occurrences of a specific word."
      ],
      "metadata": {
        "id": "ZS_tWY55z5Bg"
      }
    },
    {
      "cell_type": "code",
      "source": [
        "word_to_find = \"test\"\n",
        "with open(\"example.txt\", \"r\") as file:\n",
        "    content = file.read()\n",
        "\n",
        "count = content.count(word_to_find)\n",
        "print(f\"'{word_to_find}' appears {count} times.\")\n"
      ],
      "metadata": {
        "colab": {
          "base_uri": "https://localhost:8080/"
        },
        "id": "lo9XLJEz0cLs",
        "outputId": "a9d13097-d36e-4f43-d68b-3fabfc36e7c9"
      },
      "execution_count": 26,
      "outputs": [
        {
          "output_type": "stream",
          "name": "stdout",
          "text": [
            "'test' appears 0 times.\n"
          ]
        }
      ]
    },
    {
      "cell_type": "markdown",
      "source": [
        "22. How can you check if a file is empty before attempting to read its contents?"
      ],
      "metadata": {
        "id": "fJuh7kcSz4yV"
      }
    },
    {
      "cell_type": "code",
      "source": [
        "import os\n",
        "\n",
        "if os.stat(\"example.txt\").st_size == 0:\n",
        "    print(\"File is empty!\")\n",
        "else:\n",
        "    print(\"File has content.\")\n"
      ],
      "metadata": {
        "colab": {
          "base_uri": "https://localhost:8080/"
        },
        "id": "OkVeunSu0cxk",
        "outputId": "dce2b15b-4778-4aaa-80b9-58d4a94d6e9f"
      },
      "execution_count": 27,
      "outputs": [
        {
          "output_type": "stream",
          "name": "stdout",
          "text": [
            "File has content.\n"
          ]
        }
      ]
    },
    {
      "cell_type": "markdown",
      "source": [
        "23.  Write a Python program that writes to a log file when an error occurs during file handling."
      ],
      "metadata": {
        "id": "q3jXRj0Dz73J"
      }
    },
    {
      "cell_type": "code",
      "source": [
        "import logging\n",
        "logging.basicConfig(filename=\"file_errors.log\", level=logging.ERROR)\n",
        "\n",
        "try:\n",
        "    with open(\"missing_file.txt\", \"r\") as f:\n",
        "        data = f.read()\n",
        "except FileNotFoundError as e:\n",
        "    logging.error(f\"File error: {e}\")\n"
      ],
      "metadata": {
        "colab": {
          "base_uri": "https://localhost:8080/"
        },
        "id": "gBZY-Y8yzJ9x",
        "outputId": "4072c4d0-87c0-496e-dfa0-98d3c0096c5f"
      },
      "execution_count": 28,
      "outputs": [
        {
          "output_type": "stream",
          "name": "stderr",
          "text": [
            "ERROR:root:File error: [Errno 2] No such file or directory: 'missing_file.txt'\n"
          ]
        }
      ]
    },
    {
      "cell_type": "code",
      "source": [],
      "metadata": {
        "id": "X2UdzH0r1iJK"
      },
      "execution_count": null,
      "outputs": []
    }
  ]
}